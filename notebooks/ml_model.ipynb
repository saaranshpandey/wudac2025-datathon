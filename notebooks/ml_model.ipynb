{
 "cells": [
  {
   "cell_type": "code",
   "execution_count": 1,
   "id": "51b91387",
   "metadata": {},
   "outputs": [],
   "source": [
    "import pandas as pd\n",
    "import numpy as np\n",
    "import pandas as pd\n",
    "import matplotlib.pyplot as plt\n",
    "import seaborn as sns\n",
    "import warnings\n",
    "from datetime import datetime\n",
    "from sklearn.preprocessing import StandardScaler\n",
    "import statsmodels.api as sm\n",
    "from sklearn.ensemble import RandomForestClassifier\n",
    "from sklearn.linear_model import LogisticRegression\n",
    "from xgboost import XGBClassifier\n",
    "from sklearn.metrics import (\n",
    "    roc_auc_score, accuracy_score, precision_score,\n",
    "    recall_score, f1_score, confusion_matrix\n",
    ")"
   ]
  },
  {
   "cell_type": "code",
   "execution_count": 2,
   "id": "564d7b7c",
   "metadata": {},
   "outputs": [],
   "source": [
    "warnings.filterwarnings(\"ignore\")\n",
    "\n",
    "obs_start = '2020-01-01'; obs_end = '2023-12-31'\n",
    "sessions = (\n",
    "    pd.read_csv('../../data/sessions.csv', parse_dates=['event_date'])\n",
    "      .query('event_date >= @obs_start and event_date <= @obs_end')\n",
    ")\n",
    "transactions = (\n",
    "    pd.read_csv('../../data/transactions.csv', parse_dates=['event_date'])\n",
    "     .query('event_date >= @obs_start and event_date <= @obs_end')\n",
    "    )\n",
    "prod_cat = pd.read_csv(\"../../data/product_categories.csv\")"
   ]
  },
  {
   "cell_type": "code",
   "execution_count": 3,
   "id": "fedeeaf5",
   "metadata": {},
   "outputs": [],
   "source": [
    "# filter sessions\n",
    "is_amz = sessions['domain_name'].str.contains('amazon', case=False, na=False)\n",
    "sessions_amz     = sessions[is_amz]\n",
    "sessions_non_amz = sessions[~is_amz]\n",
    "\n",
    "# filter transactions\n",
    "is_amz_tx = transactions['domain_name'].str.contains('amazon', case=False, na=False)\n",
    "transactions_amz     = transactions[is_amz_tx]\n",
    "transactions_non_amz = transactions[~is_amz_tx]\n"
   ]
  },
  {
   "cell_type": "code",
   "execution_count": 4,
   "id": "eeab9c21",
   "metadata": {},
   "outputs": [],
   "source": [
    "sessions_amz = sessions_amz.drop_duplicates().reset_index()\n",
    "sessions_non_amz = sessions_non_amz.drop_duplicates().reset_index()\n",
    "transactions_amz = transactions_amz.drop_duplicates().reset_index()\n",
    "transactions_non_amz = transactions_non_amz.drop_duplicates().reset_index()"
   ]
  },
  {
   "cell_type": "code",
   "execution_count": 5,
   "id": "315f89c6",
   "metadata": {},
   "outputs": [],
   "source": [
    "s_mach_amz = sessions_amz['machine_id'].unique().tolist()\n",
    "t_mach_amz = transactions_amz['machine_id'].unique().tolist()"
   ]
  },
  {
   "cell_type": "code",
   "execution_count": 6,
   "id": "ccac24a5",
   "metadata": {},
   "outputs": [],
   "source": [
    "sessions_amz = sessions_amz[sessions_amz['machine_id'].isin(t_mach_amz)]"
   ]
  },
  {
   "cell_type": "code",
   "execution_count": 7,
   "id": "85194374",
   "metadata": {},
   "outputs": [],
   "source": [
    "def bucket_ref(ref):\n",
    "    if pd.isna(ref):\n",
    "        return 'direct'\n",
    "    r = ref.lower()\n",
    "    # search engines\n",
    "    if any(x in r for x in ['google','bing','yahoo']):\n",
    "        return 'search'\n",
    "    # social media\n",
    "    if any(x in r for x in ['facebook','twitter','instagram','pinterest']):\n",
    "        return 'social'\n",
    "    # major marketplaces\n",
    "    if any(x in r for x in ['amazon.', 'ebay.', 'walmart.', 'etsy.', 'target.']):\n",
    "        return 'marketplace'\n",
    "    return 'other'\n",
    "\n",
    "sessions_amz['ref_bucket'] = sessions_amz['ref_domain__name'].apply(bucket_ref)\n"
   ]
  },
  {
   "cell_type": "markdown",
   "id": "8141db41",
   "metadata": {},
   "source": [
    "### Extracting Temporal Features"
   ]
  },
  {
   "cell_type": "code",
   "execution_count": 8,
   "id": "1ca7b531",
   "metadata": {},
   "outputs": [],
   "source": [
    "# extract hour and weekday\n",
    "sessions_amz['event_date'] = pd.to_datetime(sessions_amz['event_date'])\n",
    "\n",
    "# extract hour by splitting on ':' and converting to int\n",
    "sessions_amz['event_time_parsed'] = pd.to_datetime(\n",
    "    sessions_amz['event_time'],\n",
    "    format='%H:%M:%S',\n",
    "    errors='coerce'            # invalid/missing → NaT\n",
    ")\n",
    "sessions_amz['hour'] = sessions_amz['event_time_parsed'].dt.hour\n",
    "\n",
    "# extract weekday name\n",
    "sessions_amz['weekday'] = sessions_amz['event_date'].dt.day_name()\n",
    "\n",
    "\n",
    "# extract month name\n",
    "sessions_amz['month'] = sessions_amz['event_date'].dt.month_name()"
   ]
  },
  {
   "cell_type": "markdown",
   "id": "be03bfb5",
   "metadata": {},
   "source": [
    "### Extracting Demographic Features"
   ]
  },
  {
   "cell_type": "code",
   "execution_count": 9,
   "id": "bed1e2c9",
   "metadata": {},
   "outputs": [],
   "source": [
    "sessions_agg = sessions_amz.groupby(['machine_id','event_date']).agg(\n",
    "    pages_viewed       = ('pages_viewed',       'sum'),\n",
    "    duration           = ('duration',           'sum'),\n",
    "    hoh_most_education = ('hoh_most_education', 'first'),\n",
    "    census_region      = ('census_region',      'first'),\n",
    "    household_size     = ('household_size',     'first'),\n",
    "    hoh_oldest_age     = ('hoh_oldest_age',     'first'),\n",
    "    household_income   = ('household_income',   'first'),\n",
    "    children           = ('children',           'first'),\n",
    "    hour = ('hour', 'first'),\n",
    "    month = ('month', 'first'),\n",
    "    weekday = ('weekday', 'first'),\n",
    "    ref_bucket=('ref_bucket', 'first')\n",
    ").reset_index()"
   ]
  },
  {
   "cell_type": "code",
   "execution_count": 10,
   "id": "ee21f4a8",
   "metadata": {},
   "outputs": [],
   "source": [
    "trans_agg = (\n",
    "    transactions_amz\n",
    "    .groupby(['machine_id','event_date'])\n",
    "    .size()\n",
    "    .reset_index(name='converted')\n",
    ")\n",
    "trans_agg['converted'] = 1"
   ]
  },
  {
   "cell_type": "code",
   "execution_count": 11,
   "id": "54a2001e",
   "metadata": {},
   "outputs": [],
   "source": [
    "df = sessions_agg.merge(\n",
    "    trans_agg, \n",
    "    on=['machine_id','event_date'], \n",
    "    how='left'\n",
    ")\n",
    "df['converted'] = df['converted'].fillna(0).astype(int)"
   ]
  },
  {
   "cell_type": "markdown",
   "id": "4771c2cb",
   "metadata": {},
   "source": [
    "### Feature Engineering"
   ]
  },
  {
   "cell_type": "markdown",
   "id": "06a38cd1",
   "metadata": {},
   "source": [
    "Days since Last Purchase was made"
   ]
  },
  {
   "cell_type": "code",
   "execution_count": 12,
   "id": "ea7ed271",
   "metadata": {},
   "outputs": [],
   "source": [
    "df = df.sort_values(['machine_id','event_date'])\n",
    "\n",
    "def compute_days_since_last(group):\n",
    "    group = group.sort_values('event_date').copy()\n",
    "    prev_date = None\n",
    "    prev_conv = None\n",
    "    prev_days = 0\n",
    "    days = []\n",
    "    for _, row in group.iterrows():\n",
    "        if prev_date is None:\n",
    "            days.append(0)\n",
    "        else:\n",
    "            diff = (row['event_date'] - prev_date).days\n",
    "            days.append(diff if prev_conv==1 else prev_days + diff)\n",
    "        prev_date = row['event_date']\n",
    "        prev_conv = row['converted']\n",
    "        prev_days = days[-1]\n",
    "    group['days_since_last_purchase'] = days\n",
    "    return group\n",
    "\n",
    "df = df.groupby('machine_id').apply(compute_days_since_last).reset_index(drop=True)\n"
   ]
  },
  {
   "cell_type": "code",
   "execution_count": 13,
   "id": "64ffcda4",
   "metadata": {},
   "outputs": [
    {
     "data": {
      "text/plain": [
       "machine_id                      0\n",
       "event_date                      0\n",
       "pages_viewed                    0\n",
       "duration                        0\n",
       "hoh_most_education          10585\n",
       "census_region               18684\n",
       "household_size              39958\n",
       "hoh_oldest_age              13166\n",
       "household_income            24172\n",
       "children                     2716\n",
       "hour                         3943\n",
       "month                           0\n",
       "weekday                         0\n",
       "ref_bucket                      0\n",
       "converted                       0\n",
       "days_since_last_purchase        0\n",
       "dtype: int64"
      ]
     },
     "execution_count": 13,
     "metadata": {},
     "output_type": "execute_result"
    }
   ],
   "source": [
    "df.isna().sum()"
   ]
  },
  {
   "cell_type": "markdown",
   "id": "59d8a776",
   "metadata": {},
   "source": [
    "Handling Missing Values"
   ]
  },
  {
   "cell_type": "code",
   "execution_count": 14,
   "id": "cbbc7a02",
   "metadata": {},
   "outputs": [],
   "source": [
    "df['hoh_most_education'].fillna(99, inplace=True)\n",
    "df['census_region'].fillna(99, inplace=True)\n",
    "df['household_size'].fillna(99, inplace=True)\n",
    "df['hoh_oldest_age'].fillna(99, inplace=True)\n",
    "df['household_income'].fillna(99, inplace=True)"
   ]
  },
  {
   "cell_type": "code",
   "execution_count": 15,
   "id": "cf4d6ba8",
   "metadata": {},
   "outputs": [],
   "source": [
    "df['hoh_most_education'] = df['hoh_most_education'].replace(-88, 99)\n",
    "df['household_size'] = df['household_size'].replace(-88, 99)"
   ]
  },
  {
   "cell_type": "code",
   "execution_count": 16,
   "id": "c920c340",
   "metadata": {},
   "outputs": [],
   "source": [
    "df = df.dropna().reset_index(drop=True)"
   ]
  },
  {
   "cell_type": "code",
   "execution_count": 17,
   "id": "dd1a0071",
   "metadata": {},
   "outputs": [
    {
     "data": {
      "text/plain": [
       "machine_id                  0\n",
       "event_date                  0\n",
       "pages_viewed                0\n",
       "duration                    0\n",
       "hoh_most_education          0\n",
       "census_region               0\n",
       "household_size              0\n",
       "hoh_oldest_age              0\n",
       "household_income            0\n",
       "children                    0\n",
       "hour                        0\n",
       "month                       0\n",
       "weekday                     0\n",
       "ref_bucket                  0\n",
       "converted                   0\n",
       "days_since_last_purchase    0\n",
       "dtype: int64"
      ]
     },
     "execution_count": 17,
     "metadata": {},
     "output_type": "execute_result"
    }
   ],
   "source": [
    "df.isna().sum()"
   ]
  },
  {
   "cell_type": "code",
   "execution_count": 18,
   "id": "2b50c054",
   "metadata": {},
   "outputs": [
    {
     "data": {
      "text/plain": [
       "(3996279, 16)"
      ]
     },
     "execution_count": 18,
     "metadata": {},
     "output_type": "execute_result"
    }
   ],
   "source": [
    "df.shape"
   ]
  },
  {
   "cell_type": "code",
   "execution_count": 19,
   "id": "37e8eb6e",
   "metadata": {},
   "outputs": [
    {
     "data": {
      "text/plain": [
       "converted\n",
       "0    3454989\n",
       "1     541290\n",
       "Name: count, dtype: int64"
      ]
     },
     "execution_count": 19,
     "metadata": {},
     "output_type": "execute_result"
    }
   ],
   "source": [
    "df['converted'].value_counts()"
   ]
  },
  {
   "cell_type": "code",
   "execution_count": 20,
   "id": "af3b7fab",
   "metadata": {},
   "outputs": [],
   "source": [
    "cat_cols = ['weekday', 'hour', 'month', 'ref_bucket',\n",
    "            'hoh_most_education', 'household_income', 'census_region', 'household_size', 'hoh_oldest_age', 'children']\n",
    "num_cols = ['pages_viewed', 'duration',  'days_since_last_purchase']\n"
   ]
  },
  {
   "cell_type": "code",
   "execution_count": 21,
   "id": "d6fd51da",
   "metadata": {},
   "outputs": [],
   "source": [
    "model_df = df.copy()"
   ]
  },
  {
   "cell_type": "markdown",
   "id": "36d053c0",
   "metadata": {},
   "source": [
    "### Encoding categorical features and scaling numerical features"
   ]
  },
  {
   "cell_type": "code",
   "execution_count": 22,
   "id": "57703733",
   "metadata": {},
   "outputs": [],
   "source": [
    "df_enc = pd.get_dummies(model_df, columns=cat_cols, drop_first=True, dtype=float )"
   ]
  },
  {
   "cell_type": "code",
   "execution_count": 23,
   "id": "6b93bc19",
   "metadata": {},
   "outputs": [],
   "source": [
    "scaler = StandardScaler()\n",
    "df_enc[num_cols] = scaler.fit_transform(df_enc[num_cols])"
   ]
  },
  {
   "cell_type": "code",
   "execution_count": 24,
   "id": "e113edfe",
   "metadata": {},
   "outputs": [],
   "source": [
    "X = df_enc.drop(columns=['machine_id', 'event_date', 'converted'])\n",
    "y = df_enc['converted']"
   ]
  },
  {
   "cell_type": "code",
   "execution_count": 25,
   "id": "f35b3ae2",
   "metadata": {},
   "outputs": [
    {
     "data": {
      "text/plain": [
       "(3996279, 81)"
      ]
     },
     "execution_count": 25,
     "metadata": {},
     "output_type": "execute_result"
    }
   ],
   "source": [
    "X.shape"
   ]
  },
  {
   "cell_type": "markdown",
   "id": "dfd82ad3",
   "metadata": {},
   "source": [
    "### Calculating correlation between different features"
   ]
  },
  {
   "cell_type": "code",
   "execution_count": 26,
   "id": "26416706",
   "metadata": {},
   "outputs": [],
   "source": [
    "corrs = df[num_cols + ['converted']].corr()['converted'].drop('converted')"
   ]
  },
  {
   "cell_type": "code",
   "execution_count": 27,
   "id": "08e22253",
   "metadata": {},
   "outputs": [],
   "source": [
    "corrs = df[num_cols + ['converted']].corr()['converted'].drop('converted')"
   ]
  },
  {
   "cell_type": "code",
   "execution_count": 28,
   "id": "d73c38c4",
   "metadata": {},
   "outputs": [
    {
     "name": "stdout",
     "output_type": "stream",
     "text": [
      "Non-numeric columns: []\n"
     ]
    }
   ],
   "source": [
    "non_numeric = X.select_dtypes(exclude=[np.number]).columns\n",
    "print(\"Non-numeric columns:\", list(non_numeric))"
   ]
  },
  {
   "cell_type": "code",
   "execution_count": 29,
   "id": "cc089ed9",
   "metadata": {},
   "outputs": [],
   "source": [
    "X_sm = sm.add_constant(X)\n",
    "result = sm.Logit(y, X_sm).fit(disp=False)\n",
    "pvals = result.pvalues.drop('const')"
   ]
  },
  {
   "cell_type": "markdown",
   "id": "72d9c8cb",
   "metadata": {},
   "source": [
    "### Feature Selection"
   ]
  },
  {
   "cell_type": "code",
   "execution_count": 30,
   "id": "85292d77",
   "metadata": {},
   "outputs": [],
   "source": [
    "rf = RandomForestClassifier(n_estimators=100, random_state=42)\n",
    "rf.fit(X, y)\n",
    "importances = pd.Series(rf.feature_importances_, index=X.columns)\n",
    "\n",
    "# 9. Summarize features\n",
    "feature_summary = pd.DataFrame({\n",
    "    'correlation_with_target': corrs,\n",
    "    'p_value_logit': pvals,\n",
    "    'rf_importance': importances\n",
    "}).sort_values('rf_importance', ascending=False)\n"
   ]
  },
  {
   "cell_type": "markdown",
   "id": "2781d428",
   "metadata": {},
   "source": [
    "### Feature Importance"
   ]
  },
  {
   "cell_type": "code",
   "execution_count": 31,
   "id": "09858bd8",
   "metadata": {},
   "outputs": [
    {
     "data": {
      "image/png": "[encoded data removed]",
      "text/plain": [
       "<Figure size 1000x600 with 1 Axes>"
      ]
     },
     "metadata": {},
     "output_type": "display_data"
    }
   ],
   "source": [
    "\n",
    "sns.set_theme(style=\"whitegrid\")\n",
    "\n",
    "top_features = feature_summary['rf_importance'].nlargest(15)\n",
    "\n",
    "plt.figure(figsize=(10, 6))\n",
    "\n",
    "plt.bar(top_features.index, top_features.values, color='skyblue', edgecolor='black', alpha=0.8)\n",
    "\n",
    "plt.xticks(rotation=45, ha='right', fontsize=10)\n",
    "plt.yticks(fontsize=10)\n",
    "\n",
    "plt.xlabel('Feature', fontsize=12)\n",
    "plt.ylabel('Importance', fontsize=12)\n",
    "plt.title('Top 15 Features by Random Forest Importance', fontsize=14)\n",
    "\n",
    "plt.tight_layout()\n",
    "\n",
    "plt.savefig(\"f_importance.png\", dpi = 300)\n",
    "plt.show()\n"
   ]
  },
  {
   "cell_type": "markdown",
   "id": "787351af",
   "metadata": {},
   "source": [
    "### Feature Correlation"
   ]
  },
  {
   "cell_type": "code",
   "execution_count": 32,
   "id": "4b0de8de",
   "metadata": {},
   "outputs": [
    {
     "data": {
      "image/png": "[encoded data removed]",
      "text/plain": [
       "<Figure size 600x400 with 1 Axes>"
      ]
     },
     "metadata": {},
     "output_type": "display_data"
    },
    {
     "data": {
      "image/png": "[encoded data removed]",
      "text/plain": [
       "<Figure size 800x600 with 1 Axes>"
      ]
     },
     "metadata": {},
     "output_type": "display_data"
    },
    {
     "data": {
      "text/plain": [
       "<Figure size 640x480 with 0 Axes>"
      ]
     },
     "metadata": {},
     "output_type": "display_data"
    }
   ],
   "source": [
    "\n",
    "sns.set_theme(style=\"whitegrid\")\n",
    "\n",
    "pos3 = feature_summary['correlation_with_target'].nlargest(5)\n",
    "\n",
    "plt.figure(figsize=(6, 4))\n",
    "\n",
    "plt.bar(pos3.index, pos3.values, color='skyblue', edgecolor='black', alpha=0.8)\n",
    "\n",
    "plt.xticks(rotation=45, ha='right', fontsize=10)\n",
    "plt.yticks(fontsize=10)\n",
    "\n",
    "plt.xlabel('Feature', fontsize=12)\n",
    "plt.ylabel('Correlation', fontsize=12)\n",
    "plt.title('Correlations with Conversion', fontsize=14)\n",
    "\n",
    "import seaborn as sns\n",
    "\n",
    "# Apply a clean, professional theme\n",
    "sns.set_theme(style=\"whitegrid\")\n",
    "\n",
    "# Filter and sort insignificant features (p > 0.05)\n",
    "insig = pvals[pvals > 0.05].sort_values(ascending=False)\n",
    "\n",
    "plt.figure(figsize=(8, 6))\n",
    "\n",
    "plt.barh(insig.index, insig.values, color='skyblue', edgecolor='black', alpha=0.8)\n",
    "\n",
    "plt.xlabel('p-value', fontsize=12)\n",
    "plt.ylabel('Feature', fontsize=12)\n",
    "plt.title('Insignificant Features (p > 0.05)', fontsize=14)\n",
    "\n",
    "plt.xticks(fontsize=10)\n",
    "plt.yticks(fontsize=10)\n",
    "\n",
    "plt.tight_layout()\n",
    "\n",
    "plt.savefig(\"pvals.png\", dpi =300)\n",
    "\n",
    "plt.show()\n",
    "plt.tight_layout()\n",
    "\n",
    "plt.savefig(\"corelation.png\", dpi = 300)\n",
    "plt.show()\n"
   ]
  },
  {
   "cell_type": "markdown",
   "id": "f7967e41",
   "metadata": {},
   "source": [
    "### Feature Significance"
   ]
  },
  {
   "cell_type": "code",
   "execution_count": 33,
   "id": "224bdee6",
   "metadata": {},
   "outputs": [
    {
     "data": {
      "image/png": "[encoded data removed]",
      "text/plain": [
       "<Figure size 800x600 with 1 Axes>"
      ]
     },
     "metadata": {},
     "output_type": "display_data"
    }
   ],
   "source": [
    "sns.set_theme(style=\"whitegrid\")\n",
    "\n",
    "insig = pvals[pvals > 0.05].sort_values(ascending=False)\n",
    "\n",
    "plt.figure(figsize=(8, 6))\n",
    "\n",
    "plt.barh(insig.index, insig.values, color='skyblue', edgecolor='black', alpha=0.8)\n",
    "\n",
    "plt.xlabel('p-value', fontsize=12)\n",
    "plt.ylabel('Feature', fontsize=12)\n",
    "plt.title('Insignificant Features (p > 0.05)', fontsize=14)\n",
    "\n",
    "plt.xticks(fontsize=10)\n",
    "plt.yticks(fontsize=10)\n",
    "\n",
    "plt.tight_layout()\n",
    "\n",
    "plt.savefig(\"pvals.png\", dpi =300)\n",
    "\n",
    "plt.show()\n"
   ]
  },
  {
   "cell_type": "markdown",
   "id": "6e86ee73",
   "metadata": {},
   "source": [
    "### Preparing Dataset for ML Model"
   ]
  },
  {
   "cell_type": "code",
   "execution_count": 34,
   "id": "c1da2b97",
   "metadata": {},
   "outputs": [],
   "source": [
    "model_df = df.copy()\n",
    "df_enc = pd.get_dummies(model_df, columns=cat_cols, drop_first=True, dtype=float )\n",
    "\n",
    "threshold = pd.Timestamp('2023-01-01')\n",
    "train_df = df_enc[df_enc['event_date'] < threshold].copy()\n",
    "test_df  = df_enc[df_enc['event_date'] >= threshold].copy()"
   ]
  },
  {
   "cell_type": "code",
   "execution_count": 35,
   "id": "9bb3e933",
   "metadata": {},
   "outputs": [],
   "source": [
    "model_df = df.copy()\n",
    "df_enc = pd.get_dummies(model_df, columns=cat_cols, drop_first=True, dtype=float )\n",
    "\n",
    "threshold = pd.Timestamp('2023-01-01')\n",
    "train_df = df_enc[df_enc['event_date'] < threshold].copy()\n",
    "test_df  = df_enc[df_enc['event_date'] >= threshold].copy()"
   ]
  },
  {
   "cell_type": "code",
   "execution_count": 36,
   "id": "1336557b",
   "metadata": {},
   "outputs": [
    {
     "data": {
      "text/plain": [
       "converted\n",
       "0    2993944\n",
       "1     488469\n",
       "Name: count, dtype: int64"
      ]
     },
     "execution_count": 36,
     "metadata": {},
     "output_type": "execute_result"
    }
   ],
   "source": [
    "train_df['converted'].value_counts()"
   ]
  },
  {
   "cell_type": "code",
   "execution_count": 37,
   "id": "518bcd42",
   "metadata": {},
   "outputs": [
    {
     "data": {
      "text/plain": [
       "converted\n",
       "0    461045\n",
       "1     52821\n",
       "Name: count, dtype: int64"
      ]
     },
     "execution_count": 37,
     "metadata": {},
     "output_type": "execute_result"
    }
   ],
   "source": [
    "test_df['converted'].value_counts()"
   ]
  },
  {
   "cell_type": "code",
   "execution_count": 38,
   "id": "ddf8fe4f",
   "metadata": {},
   "outputs": [],
   "source": [
    "X_train = train_df.drop(columns=['machine_id',  'converted', 'event_date'])\n",
    "y_train = train_df['converted']\n",
    "\n",
    "X_test = test_df.drop(columns=['machine_id', 'converted', 'event_date'])\n",
    "y_test = test_df['converted']"
   ]
  },
  {
   "cell_type": "code",
   "execution_count": 39,
   "id": "a6dc68de",
   "metadata": {},
   "outputs": [],
   "source": [
    "scaler = StandardScaler()\n",
    "X_train[num_cols] = scaler.fit_transform(X_train[num_cols])\n",
    "X_test[num_cols]  = scaler.transform(X_test[num_cols])"
   ]
  },
  {
   "cell_type": "markdown",
   "id": "f26fe12a",
   "metadata": {},
   "source": [
    "### Comparing base models"
   ]
  },
  {
   "cell_type": "code",
   "execution_count": 40,
   "id": "61fe4c1a",
   "metadata": {},
   "outputs": [],
   "source": [
    "models = {\n",
    "    'XGBoost': XGBClassifier(use_label_encoder=False, eval_metric='logloss', random_state=42),\n",
    "    'Logistic Regression': LogisticRegression(max_iter=1000, random_state=42),\n",
    "    'Random Forest': RandomForestClassifier(n_estimators=100, random_state=42),\n",
    "}\n"
   ]
  },
  {
   "cell_type": "code",
   "execution_count": 41,
   "id": "2e156ec8",
   "metadata": {},
   "outputs": [],
   "source": [
    "results = []\n",
    "for name, m in models.items():\n",
    "    m.fit(X_train, y_train)\n",
    "    y_pred = m.predict(X_test)\n",
    "    y_proba = m.predict_proba(X_test)[:,1] if hasattr(m,'predict_proba') else None\n",
    "    results.append({\n",
    "        'model': name,\n",
    "        'roc_auc': roc_auc_score(y_test, y_proba) if y_proba is not None else np.nan,\n",
    "        'accuracy': accuracy_score(y_test, y_pred),\n",
    "        'precision': precision_score(y_test, y_pred, zero_division=0),\n",
    "        'recall': recall_score(y_test, y_pred, zero_division=0),\n",
    "        'f1': f1_score(y_test, y_pred, zero_division=0)\n",
    "    })"
   ]
  },
  {
   "cell_type": "code",
   "execution_count": 42,
   "id": "632e227b",
   "metadata": {},
   "outputs": [
    {
     "data": {
      "text/html": [
       "<div>\n",
       "<style scoped>\n",
       "    .dataframe tbody tr th:only-of-type {\n",
       "        vertical-align: middle;\n",
       "    }\n",
       "\n",
       "    .dataframe tbody tr th {\n",
       "        vertical-align: top;\n",
       "    }\n",
       "\n",
       "    .dataframe thead th {\n",
       "        text-align: right;\n",
       "    }\n",
       "</style>\n",
       "<table border=\"1\" class=\"dataframe\">\n",
       "  <thead>\n",
       "    <tr style=\"text-align: right;\">\n",
       "      <th></th>\n",
       "      <th>roc_auc</th>\n",
       "      <th>accuracy</th>\n",
       "      <th>precision</th>\n",
       "      <th>recall</th>\n",
       "      <th>f1</th>\n",
       "    </tr>\n",
       "    <tr>\n",
       "      <th>model</th>\n",
       "      <th></th>\n",
       "      <th></th>\n",
       "      <th></th>\n",
       "      <th></th>\n",
       "      <th></th>\n",
       "    </tr>\n",
       "  </thead>\n",
       "  <tbody>\n",
       "    <tr>\n",
       "      <th>XGBoost</th>\n",
       "      <td>0.869272</td>\n",
       "      <td>0.897263</td>\n",
       "      <td>0.500616</td>\n",
       "      <td>0.215369</td>\n",
       "      <td>0.301171</td>\n",
       "    </tr>\n",
       "    <tr>\n",
       "      <th>Logistic Regression</th>\n",
       "      <td>0.795352</td>\n",
       "      <td>0.895298</td>\n",
       "      <td>0.436151</td>\n",
       "      <td>0.063497</td>\n",
       "      <td>0.110856</td>\n",
       "    </tr>\n",
       "    <tr>\n",
       "      <th>Random Forest</th>\n",
       "      <td>0.860523</td>\n",
       "      <td>0.896417</td>\n",
       "      <td>0.489726</td>\n",
       "      <td>0.183639</td>\n",
       "      <td>0.267115</td>\n",
       "    </tr>\n",
       "  </tbody>\n",
       "</table>\n",
       "</div>"
      ],
      "text/plain": [
       "                      roc_auc  accuracy  precision    recall        f1\n",
       "model                                                                 \n",
       "XGBoost              0.869272  0.897263   0.500616  0.215369  0.301171\n",
       "Logistic Regression  0.795352  0.895298   0.436151  0.063497  0.110856\n",
       "Random Forest        0.860523  0.896417   0.489726  0.183639  0.267115"
      ]
     },
     "execution_count": 42,
     "metadata": {},
     "output_type": "execute_result"
    }
   ],
   "source": [
    "res_df = pd.DataFrame(results).set_index('model')\n",
    "res_df"
   ]
  },
  {
   "cell_type": "code",
   "execution_count": 43,
   "id": "80a594a7",
   "metadata": {},
   "outputs": [
    {
     "name": "stdout",
     "output_type": "stream",
     "text": [
      "Best model: XGBoost\n"
     ]
    }
   ],
   "source": [
    "best = res_df['roc_auc'].idxmax()\n",
    "print(\"Best model:\", best)"
   ]
  },
  {
   "cell_type": "markdown",
   "id": "4cd60114",
   "metadata": {},
   "source": [
    "### Best Model -> XGBoost"
   ]
  },
  {
   "cell_type": "code",
   "execution_count": 44,
   "id": "2d02ec6e",
   "metadata": {},
   "outputs": [
    {
     "data": {
      "image/png": "[encoded data removed]",
      "text/plain": [
       "<Figure size 600x500 with 2 Axes>"
      ]
     },
     "metadata": {},
     "output_type": "display_data"
    }
   ],
   "source": [
    "cm = confusion_matrix(y_test, y_pred)\n",
    "\n",
    "plt.figure(figsize=(6, 5))\n",
    "\n",
    "plt.imshow(cm, interpolation='nearest', cmap=plt.cm.Blues)\n",
    "plt.title(\"Confusion Matrix\", fontsize=14)\n",
    "plt.colorbar()\n",
    "\n",
    "tick_marks = np.arange(2)\n",
    "plt.xticks(tick_marks, ['Pred 0', 'Pred 1'], fontsize=12)\n",
    "plt.yticks(tick_marks, ['True 0', 'True 1'], fontsize=12)\n",
    "\n",
    "threshold = cm.max() / 2.0\n",
    "\n",
    "for i in range(cm.shape[0]):\n",
    "    for j in range(cm.shape[1]):\n",
    "        plt.text(j, i, format(cm[i, j], \"d\"),\n",
    "                 horizontalalignment=\"center\",\n",
    "                 verticalalignment=\"center\",\n",
    "                 color=\"white\" if cm[i, j] > threshold else \"black\",\n",
    "                 fontsize=12)\n",
    "\n",
    "plt.xlabel(\"Predicted Label\", fontsize=12)\n",
    "plt.ylabel(\"True Label\", fontsize=12)\n",
    "\n",
    "plt.grid(False)\n",
    "\n",
    "plt.tight_layout()\n",
    "plt.show()\n"
   ]
  },
  {
   "cell_type": "markdown",
   "id": "1fa9dfaa",
   "metadata": {},
   "source": [
    "### Optimization (threshold)"
   ]
  },
  {
   "cell_type": "code",
   "execution_count": 45,
   "id": "4e82c86b",
   "metadata": {},
   "outputs": [],
   "source": [
    "scale = train_df.converted.value_counts()[0] / train_df.converted.value_counts()[1]"
   ]
  },
  {
   "cell_type": "code",
   "execution_count": 46,
   "id": "c50ee9ef",
   "metadata": {},
   "outputs": [],
   "source": [
    "model = XGBClassifier(\n",
    "    use_label_encoder=False,\n",
    "    eval_metric='logloss',\n",
    "    random_state=42,\n",
    "    scale_pos_weight=scale\n",
    ")"
   ]
  },
  {
   "cell_type": "code",
   "execution_count": 47,
   "id": "ce0f1a36",
   "metadata": {},
   "outputs": [
    {
     "data": {
      "text/html": [
       "<style>#sk-container-id-1 {\n",
       "  /* Definition of color scheme common for light and dark mode */\n",
       "  --sklearn-color-text: #000;\n",
       "  --sklearn-color-text-muted: #666;\n",
       "  --sklearn-color-line: gray;\n",
       "  /* Definition of color scheme for unfitted estimators */\n",
       "  --sklearn-color-unfitted-level-0: #fff5e6;\n",
       "  --sklearn-color-unfitted-level-1: #f6e4d2;\n",
       "  --sklearn-color-unfitted-level-2: #ffe0b3;\n",
       "  --sklearn-color-unfitted-level-3: chocolate;\n",
       "  /* Definition of color scheme for fitted estimators */\n",
       "  --sklearn-color-fitted-level-0: #f0f8ff;\n",
       "  --sklearn-color-fitted-level-1: #d4ebff;\n",
       "  --sklearn-color-fitted-level-2: #b3dbfd;\n",
       "  --sklearn-color-fitted-level-3: cornflowerblue;\n",
       "\n",
       "  /* Specific color for light theme */\n",
       "  --sklearn-color-text-on-default-background: var(--sg-text-color, var(--theme-code-foreground, var(--jp-content-font-color1, black)));\n",
       "  --sklearn-color-background: var(--sg-background-color, var(--theme-background, var(--jp-layout-color0, white)));\n",
       "  --sklearn-color-border-box: var(--sg-text-color, var(--theme-code-foreground, var(--jp-content-font-color1, black)));\n",
       "  --sklearn-color-icon: #696969;\n",
       "\n",
       "  @media (prefers-color-scheme: dark) {\n",
       "    /* Redefinition of color scheme for dark theme */\n",
       "    --sklearn-color-text-on-default-background: var(--sg-text-color, var(--theme-code-foreground, var(--jp-content-font-color1, white)));\n",
       "    --sklearn-color-background: var(--sg-background-color, var(--theme-background, var(--jp-layout-color0, #111)));\n",
       "    --sklearn-color-border-box: var(--sg-text-color, var(--theme-code-foreground, var(--jp-content-font-color1, white)));\n",
       "    --sklearn-color-icon: #878787;\n",
       "  }\n",
       "}\n",
       "\n",
       "#sk-container-id-1 {\n",
       "  color: var(--sklearn-color-text);\n",
       "}\n",
       "\n",
       "#sk-container-id-1 pre {\n",
       "  padding: 0;\n",
       "}\n",
       "\n",
       "#sk-container-id-1 input.sk-hidden--visually {\n",
       "  border: 0;\n",
       "  clip: rect(1px 1px 1px 1px);\n",
       "  clip: rect(1px, 1px, 1px, 1px);\n",
       "  height: 1px;\n",
       "  margin: -1px;\n",
       "  overflow: hidden;\n",
       "  padding: 0;\n",
       "  position: absolute;\n",
       "  width: 1px;\n",
       "}\n",
       "\n",
       "#sk-container-id-1 div.sk-dashed-wrapped {\n",
       "  border: 1px dashed var(--sklearn-color-line);\n",
       "  margin: 0 0.4em 0.5em 0.4em;\n",
       "  box-sizing: border-box;\n",
       "  padding-bottom: 0.4em;\n",
       "  background-color: var(--sklearn-color-background);\n",
       "}\n",
       "\n",
       "#sk-container-id-1 div.sk-container {\n",
       "  /* jupyter's `normalize.less` sets `[hidden] { display: none; }`\n",
       "     but bootstrap.min.css set `[hidden] { display: none !important; }`\n",
       "     so we also need the `!important` here to be able to override the\n",
       "     default hidden behavior on the sphinx rendered scikit-learn.org.\n",
       "     See: https://github.com/scikit-learn/scikit-learn/issues/21755 */\n",
       "  display: inline-block !important;\n",
       "  position: relative;\n",
       "}\n",
       "\n",
       "#sk-container-id-1 div.sk-text-repr-fallback {\n",
       "  display: none;\n",
       "}\n",
       "\n",
       "div.sk-parallel-item,\n",
       "div.sk-serial,\n",
       "div.sk-item {\n",
       "  /* draw centered vertical line to link estimators */\n",
       "  background-image: linear-gradient(var(--sklearn-color-text-on-default-background), var(--sklearn-color-text-on-default-background));\n",
       "  background-size: 2px 100%;\n",
       "  background-repeat: no-repeat;\n",
       "  background-position: center center;\n",
       "}\n",
       "\n",
       "/* Parallel-specific style estimator block */\n",
       "\n",
       "#sk-container-id-1 div.sk-parallel-item::after {\n",
       "  content: \"\";\n",
       "  width: 100%;\n",
       "  border-bottom: 2px solid var(--sklearn-color-text-on-default-background);\n",
       "  flex-grow: 1;\n",
       "}\n",
       "\n",
       "#sk-container-id-1 div.sk-parallel {\n",
       "  display: flex;\n",
       "  align-items: stretch;\n",
       "  justify-content: center;\n",
       "  background-color: var(--sklearn-color-background);\n",
       "  position: relative;\n",
       "}\n",
       "\n",
       "#sk-container-id-1 div.sk-parallel-item {\n",
       "  display: flex;\n",
       "  flex-direction: column;\n",
       "}\n",
       "\n",
       "#sk-container-id-1 div.sk-parallel-item:first-child::after {\n",
       "  align-self: flex-end;\n",
       "  width: 50%;\n",
       "}\n",
       "\n",
       "#sk-container-id-1 div.sk-parallel-item:last-child::after {\n",
       "  align-self: flex-start;\n",
       "  width: 50%;\n",
       "}\n",
       "\n",
       "#sk-container-id-1 div.sk-parallel-item:only-child::after {\n",
       "  width: 0;\n",
       "}\n",
       "\n",
       "/* Serial-specific style estimator block */\n",
       "\n",
       "#sk-container-id-1 div.sk-serial {\n",
       "  display: flex;\n",
       "  flex-direction: column;\n",
       "  align-items: center;\n",
       "  background-color: var(--sklearn-color-background);\n",
       "  padding-right: 1em;\n",
       "  padding-left: 1em;\n",
       "}\n",
       "\n",
       "\n",
       "/* Toggleable style: style used for estimator/Pipeline/ColumnTransformer box that is\n",
       "clickable and can be expanded/collapsed.\n",
       "- Pipeline and ColumnTransformer use this feature and define the default style\n",
       "- Estimators will overwrite some part of the style using the `sk-estimator` class\n",
       "*/\n",
       "\n",
       "/* Pipeline and ColumnTransformer style (default) */\n",
       "\n",
       "#sk-container-id-1 div.sk-toggleable {\n",
       "  /* Default theme specific background. It is overwritten whether we have a\n",
       "  specific estimator or a Pipeline/ColumnTransformer */\n",
       "  background-color: var(--sklearn-color-background);\n",
       "}\n",
       "\n",
       "/* Toggleable label */\n",
       "#sk-container-id-1 label.sk-toggleable__label {\n",
       "  cursor: pointer;\n",
       "  display: flex;\n",
       "  width: 100%;\n",
       "  margin-bottom: 0;\n",
       "  padding: 0.5em;\n",
       "  box-sizing: border-box;\n",
       "  text-align: center;\n",
       "  align-items: start;\n",
       "  justify-content: space-between;\n",
       "  gap: 0.5em;\n",
       "}\n",
       "\n",
       "#sk-container-id-1 label.sk-toggleable__label .caption {\n",
       "  font-size: 0.6rem;\n",
       "  font-weight: lighter;\n",
       "  color: var(--sklearn-color-text-muted);\n",
       "}\n",
       "\n",
       "#sk-container-id-1 label.sk-toggleable__label-arrow:before {\n",
       "  /* Arrow on the left of the label */\n",
       "  content: \"▸\";\n",
       "  float: left;\n",
       "  margin-right: 0.25em;\n",
       "  color: var(--sklearn-color-icon);\n",
       "}\n",
       "\n",
       "#sk-container-id-1 label.sk-toggleable__label-arrow:hover:before {\n",
       "  color: var(--sklearn-color-text);\n",
       "}\n",
       "\n",
       "/* Toggleable content - dropdown */\n",
       "\n",
       "#sk-container-id-1 div.sk-toggleable__content {\n",
       "  max-height: 0;\n",
       "  max-width: 0;\n",
       "  overflow: hidden;\n",
       "  text-align: left;\n",
       "  /* unfitted */\n",
       "  background-color: var(--sklearn-color-unfitted-level-0);\n",
       "}\n",
       "\n",
       "#sk-container-id-1 div.sk-toggleable__content.fitted {\n",
       "  /* fitted */\n",
       "  background-color: var(--sklearn-color-fitted-level-0);\n",
       "}\n",
       "\n",
       "#sk-container-id-1 div.sk-toggleable__content pre {\n",
       "  margin: 0.2em;\n",
       "  border-radius: 0.25em;\n",
       "  color: var(--sklearn-color-text);\n",
       "  /* unfitted */\n",
       "  background-color: var(--sklearn-color-unfitted-level-0);\n",
       "}\n",
       "\n",
       "#sk-container-id-1 div.sk-toggleable__content.fitted pre {\n",
       "  /* unfitted */\n",
       "  background-color: var(--sklearn-color-fitted-level-0);\n",
       "}\n",
       "\n",
       "#sk-container-id-1 input.sk-toggleable__control:checked~div.sk-toggleable__content {\n",
       "  /* Expand drop-down */\n",
       "  max-height: 200px;\n",
       "  max-width: 100%;\n",
       "  overflow: auto;\n",
       "}\n",
       "\n",
       "#sk-container-id-1 input.sk-toggleable__control:checked~label.sk-toggleable__label-arrow:before {\n",
       "  content: \"▾\";\n",
       "}\n",
       "\n",
       "/* Pipeline/ColumnTransformer-specific style */\n",
       "\n",
       "#sk-container-id-1 div.sk-label input.sk-toggleable__control:checked~label.sk-toggleable__label {\n",
       "  color: var(--sklearn-color-text);\n",
       "  background-color: var(--sklearn-color-unfitted-level-2);\n",
       "}\n",
       "\n",
       "#sk-container-id-1 div.sk-label.fitted input.sk-toggleable__control:checked~label.sk-toggleable__label {\n",
       "  background-color: var(--sklearn-color-fitted-level-2);\n",
       "}\n",
       "\n",
       "/* Estimator-specific style */\n",
       "\n",
       "/* Colorize estimator box */\n",
       "#sk-container-id-1 div.sk-estimator input.sk-toggleable__control:checked~label.sk-toggleable__label {\n",
       "  /* unfitted */\n",
       "  background-color: var(--sklearn-color-unfitted-level-2);\n",
       "}\n",
       "\n",
       "#sk-container-id-1 div.sk-estimator.fitted input.sk-toggleable__control:checked~label.sk-toggleable__label {\n",
       "  /* fitted */\n",
       "  background-color: var(--sklearn-color-fitted-level-2);\n",
       "}\n",
       "\n",
       "#sk-container-id-1 div.sk-label label.sk-toggleable__label,\n",
       "#sk-container-id-1 div.sk-label label {\n",
       "  /* The background is the default theme color */\n",
       "  color: var(--sklearn-color-text-on-default-background);\n",
       "}\n",
       "\n",
       "/* On hover, darken the color of the background */\n",
       "#sk-container-id-1 div.sk-label:hover label.sk-toggleable__label {\n",
       "  color: var(--sklearn-color-text);\n",
       "  background-color: var(--sklearn-color-unfitted-level-2);\n",
       "}\n",
       "\n",
       "/* Label box, darken color on hover, fitted */\n",
       "#sk-container-id-1 div.sk-label.fitted:hover label.sk-toggleable__label.fitted {\n",
       "  color: var(--sklearn-color-text);\n",
       "  background-color: var(--sklearn-color-fitted-level-2);\n",
       "}\n",
       "\n",
       "/* Estimator label */\n",
       "\n",
       "#sk-container-id-1 div.sk-label label {\n",
       "  font-family: monospace;\n",
       "  font-weight: bold;\n",
       "  display: inline-block;\n",
       "  line-height: 1.2em;\n",
       "}\n",
       "\n",
       "#sk-container-id-1 div.sk-label-container {\n",
       "  text-align: center;\n",
       "}\n",
       "\n",
       "/* Estimator-specific */\n",
       "#sk-container-id-1 div.sk-estimator {\n",
       "  font-family: monospace;\n",
       "  border: 1px dotted var(--sklearn-color-border-box);\n",
       "  border-radius: 0.25em;\n",
       "  box-sizing: border-box;\n",
       "  margin-bottom: 0.5em;\n",
       "  /* unfitted */\n",
       "  background-color: var(--sklearn-color-unfitted-level-0);\n",
       "}\n",
       "\n",
       "#sk-container-id-1 div.sk-estimator.fitted {\n",
       "  /* fitted */\n",
       "  background-color: var(--sklearn-color-fitted-level-0);\n",
       "}\n",
       "\n",
       "/* on hover */\n",
       "#sk-container-id-1 div.sk-estimator:hover {\n",
       "  /* unfitted */\n",
       "  background-color: var(--sklearn-color-unfitted-level-2);\n",
       "}\n",
       "\n",
       "#sk-container-id-1 div.sk-estimator.fitted:hover {\n",
       "  /* fitted */\n",
       "  background-color: var(--sklearn-color-fitted-level-2);\n",
       "}\n",
       "\n",
       "/* Specification for estimator info (e.g. \"i\" and \"?\") */\n",
       "\n",
       "/* Common style for \"i\" and \"?\" */\n",
       "\n",
       ".sk-estimator-doc-link,\n",
       "a:link.sk-estimator-doc-link,\n",
       "a:visited.sk-estimator-doc-link {\n",
       "  float: right;\n",
       "  font-size: smaller;\n",
       "  line-height: 1em;\n",
       "  font-family: monospace;\n",
       "  background-color: var(--sklearn-color-background);\n",
       "  border-radius: 1em;\n",
       "  height: 1em;\n",
       "  width: 1em;\n",
       "  text-decoration: none !important;\n",
       "  margin-left: 0.5em;\n",
       "  text-align: center;\n",
       "  /* unfitted */\n",
       "  border: var(--sklearn-color-unfitted-level-1) 1pt solid;\n",
       "  color: var(--sklearn-color-unfitted-level-1);\n",
       "}\n",
       "\n",
       ".sk-estimator-doc-link.fitted,\n",
       "a:link.sk-estimator-doc-link.fitted,\n",
       "a:visited.sk-estimator-doc-link.fitted {\n",
       "  /* fitted */\n",
       "  border: var(--sklearn-color-fitted-level-1) 1pt solid;\n",
       "  color: var(--sklearn-color-fitted-level-1);\n",
       "}\n",
       "\n",
       "/* On hover */\n",
       "div.sk-estimator:hover .sk-estimator-doc-link:hover,\n",
       ".sk-estimator-doc-link:hover,\n",
       "div.sk-label-container:hover .sk-estimator-doc-link:hover,\n",
       ".sk-estimator-doc-link:hover {\n",
       "  /* unfitted */\n",
       "  background-color: var(--sklearn-color-unfitted-level-3);\n",
       "  color: var(--sklearn-color-background);\n",
       "  text-decoration: none;\n",
       "}\n",
       "\n",
       "div.sk-estimator.fitted:hover .sk-estimator-doc-link.fitted:hover,\n",
       ".sk-estimator-doc-link.fitted:hover,\n",
       "div.sk-label-container:hover .sk-estimator-doc-link.fitted:hover,\n",
       ".sk-estimator-doc-link.fitted:hover {\n",
       "  /* fitted */\n",
       "  background-color: var(--sklearn-color-fitted-level-3);\n",
       "  color: var(--sklearn-color-background);\n",
       "  text-decoration: none;\n",
       "}\n",
       "\n",
       "/* Span, style for the box shown on hovering the info icon */\n",
       ".sk-estimator-doc-link span {\n",
       "  display: none;\n",
       "  z-index: 9999;\n",
       "  position: relative;\n",
       "  font-weight: normal;\n",
       "  right: .2ex;\n",
       "  padding: .5ex;\n",
       "  margin: .5ex;\n",
       "  width: min-content;\n",
       "  min-width: 20ex;\n",
       "  max-width: 50ex;\n",
       "  color: var(--sklearn-color-text);\n",
       "  box-shadow: 2pt 2pt 4pt #999;\n",
       "  /* unfitted */\n",
       "  background: var(--sklearn-color-unfitted-level-0);\n",
       "  border: .5pt solid var(--sklearn-color-unfitted-level-3);\n",
       "}\n",
       "\n",
       ".sk-estimator-doc-link.fitted span {\n",
       "  /* fitted */\n",
       "  background: var(--sklearn-color-fitted-level-0);\n",
       "  border: var(--sklearn-color-fitted-level-3);\n",
       "}\n",
       "\n",
       ".sk-estimator-doc-link:hover span {\n",
       "  display: block;\n",
       "}\n",
       "\n",
       "/* \"?\"-specific style due to the `<a>` HTML tag */\n",
       "\n",
       "#sk-container-id-1 a.estimator_doc_link {\n",
       "  float: right;\n",
       "  font-size: 1rem;\n",
       "  line-height: 1em;\n",
       "  font-family: monospace;\n",
       "  background-color: var(--sklearn-color-background);\n",
       "  border-radius: 1rem;\n",
       "  height: 1rem;\n",
       "  width: 1rem;\n",
       "  text-decoration: none;\n",
       "  /* unfitted */\n",
       "  color: var(--sklearn-color-unfitted-level-1);\n",
       "  border: var(--sklearn-color-unfitted-level-1) 1pt solid;\n",
       "}\n",
       "\n",
       "#sk-container-id-1 a.estimator_doc_link.fitted {\n",
       "  /* fitted */\n",
       "  border: var(--sklearn-color-fitted-level-1) 1pt solid;\n",
       "  color: var(--sklearn-color-fitted-level-1);\n",
       "}\n",
       "\n",
       "/* On hover */\n",
       "#sk-container-id-1 a.estimator_doc_link:hover {\n",
       "  /* unfitted */\n",
       "  background-color: var(--sklearn-color-unfitted-level-3);\n",
       "  color: var(--sklearn-color-background);\n",
       "  text-decoration: none;\n",
       "}\n",
       "\n",
       "#sk-container-id-1 a.estimator_doc_link.fitted:hover {\n",
       "  /* fitted */\n",
       "  background-color: var(--sklearn-color-fitted-level-3);\n",
       "}\n",
       "</style><div id=\"sk-container-id-1\" class=\"sk-top-container\"><div class=\"sk-text-repr-fallback\"><pre>XGBClassifier(base_score=None, booster=None, callbacks=None,\n",
       "              colsample_bylevel=None, colsample_bynode=None,\n",
       "              colsample_bytree=None, device=None, early_stopping_rounds=None,\n",
       "              enable_categorical=False, eval_metric=&#x27;logloss&#x27;,\n",
       "              feature_types=None, feature_weights=None, gamma=None,\n",
       "              grow_policy=None, importance_type=None,\n",
       "              interaction_constraints=None, learning_rate=None, max_bin=None,\n",
       "              max_cat_threshold=None, max_cat_to_onehot=None,\n",
       "              max_delta_step=None, max_depth=None, max_leaves=None,\n",
       "              min_child_weight=None, missing=nan, monotone_constraints=None,\n",
       "              multi_strategy=None, n_estimators=None, n_jobs=None,\n",
       "              num_parallel_tree=None, ...)</pre><b>In a Jupyter environment, please rerun this cell to show the HTML representation or trust the notebook. <br />On GitHub, the HTML representation is unable to render, please try loading this page with nbviewer.org.</b></div><div class=\"sk-container\" hidden><div class=\"sk-item\"><div class=\"sk-estimator fitted sk-toggleable\"><input class=\"sk-toggleable__control sk-hidden--visually\" id=\"sk-estimator-id-1\" type=\"checkbox\" checked><label for=\"sk-estimator-id-1\" class=\"sk-toggleable__label fitted sk-toggleable__label-arrow\"><div><div>XGBClassifier</div></div><div><a class=\"sk-estimator-doc-link fitted\" rel=\"noreferrer\" target=\"_blank\" href=\"https://xgboost.readthedocs.io/en/release_3.0.0/python/python_api.html#xgboost.XGBClassifier\">?<span>Documentation for XGBClassifier</span></a><span class=\"sk-estimator-doc-link fitted\">i<span>Fitted</span></span></div></label><div class=\"sk-toggleable__content fitted\"><pre>XGBClassifier(base_score=None, booster=None, callbacks=None,\n",
       "              colsample_bylevel=None, colsample_bynode=None,\n",
       "              colsample_bytree=None, device=None, early_stopping_rounds=None,\n",
       "              enable_categorical=False, eval_metric=&#x27;logloss&#x27;,\n",
       "              feature_types=None, feature_weights=None, gamma=None,\n",
       "              grow_policy=None, importance_type=None,\n",
       "              interaction_constraints=None, learning_rate=None, max_bin=None,\n",
       "              max_cat_threshold=None, max_cat_to_onehot=None,\n",
       "              max_delta_step=None, max_depth=None, max_leaves=None,\n",
       "              min_child_weight=None, missing=nan, monotone_constraints=None,\n",
       "              multi_strategy=None, n_estimators=None, n_jobs=None,\n",
       "              num_parallel_tree=None, ...)</pre></div> </div></div></div></div>"
      ],
      "text/plain": [
       "XGBClassifier(base_score=None, booster=None, callbacks=None,\n",
       "              colsample_bylevel=None, colsample_bynode=None,\n",
       "              colsample_bytree=None, device=None, early_stopping_rounds=None,\n",
       "              enable_categorical=False, eval_metric='logloss',\n",
       "              feature_types=None, feature_weights=None, gamma=None,\n",
       "              grow_policy=None, importance_type=None,\n",
       "              interaction_constraints=None, learning_rate=None, max_bin=None,\n",
       "              max_cat_threshold=None, max_cat_to_onehot=None,\n",
       "              max_delta_step=None, max_depth=None, max_leaves=None,\n",
       "              min_child_weight=None, missing=nan, monotone_constraints=None,\n",
       "              multi_strategy=None, n_estimators=None, n_jobs=None,\n",
       "              num_parallel_tree=None, ...)"
      ]
     },
     "execution_count": 47,
     "metadata": {},
     "output_type": "execute_result"
    }
   ],
   "source": [
    "model.fit(X_train, y_train)"
   ]
  },
  {
   "cell_type": "code",
   "execution_count": 48,
   "id": "e3a15478",
   "metadata": {},
   "outputs": [
    {
     "name": "stdout",
     "output_type": "stream",
     "text": [
      "Best threshold: 0.73\n"
     ]
    }
   ],
   "source": [
    "probs = model.predict_proba(X_test)[:,1]\n",
    "# pick threshold that maximizes F1 or gives desired recall\n",
    "\n",
    "ths = np.linspace(0.1,0.9,81)\n",
    "f1s = [f1_score(y_test, probs>t) for t in ths]\n",
    "best_t = ths[np.argmax(f1s)]\n",
    "print(\"Best threshold:\", best_t)\n"
   ]
  },
  {
   "cell_type": "code",
   "execution_count": 49,
   "id": "3f1b48aa",
   "metadata": {},
   "outputs": [
    {
     "name": "stdout",
     "output_type": "stream",
     "text": [
      "              precision    recall  f1-score   support\n",
      "\n",
      "           0       0.95      0.88      0.92    461045\n",
      "           1       0.37      0.59      0.45     52821\n",
      "\n",
      "    accuracy                           0.85    513866\n",
      "   macro avg       0.66      0.74      0.69    513866\n",
      "weighted avg       0.89      0.85      0.87    513866\n",
      "\n"
     ]
    }
   ],
   "source": [
    "y_pred = (probs >= best_t).astype(int)\n",
    "\n",
    "from sklearn.metrics import classification_report\n",
    "print(classification_report(y_test, y_pred))"
   ]
  },
  {
   "cell_type": "code",
   "execution_count": 50,
   "id": "de344beb",
   "metadata": {},
   "outputs": [
    {
     "data": {
      "image/png": "[encoded data removed]",
      "text/plain": [
       "<Figure size 600x500 with 2 Axes>"
      ]
     },
     "metadata": {},
     "output_type": "display_data"
    }
   ],
   "source": [
    "cm = confusion_matrix(y_test, y_pred)\n",
    "\n",
    "plt.figure(figsize=(6, 5))\n",
    "\n",
    "plt.imshow(cm, interpolation='nearest', cmap=plt.cm.Blues)\n",
    "plt.title(\"Confusion Matrix\", fontsize=14)\n",
    "plt.colorbar()\n",
    "\n",
    "tick_marks = np.arange(2)\n",
    "plt.xticks(tick_marks, ['Pred 0', 'Pred 1'], fontsize=12)\n",
    "plt.yticks(tick_marks, ['True 0', 'True 1'], fontsize=12)\n",
    "\n",
    "threshold = cm.max() / 2.0\n",
    "\n",
    "for i in range(cm.shape[0]):\n",
    "    for j in range(cm.shape[1]):\n",
    "        plt.text(j, i, format(cm[i, j], \"d\"),\n",
    "                 horizontalalignment=\"center\",\n",
    "                 verticalalignment=\"center\",\n",
    "                 color=\"white\" if cm[i, j] > threshold else \"black\",\n",
    "                 fontsize=12)\n",
    "\n",
    "plt.xlabel(\"Predicted Label\", fontsize=12)\n",
    "plt.ylabel(\"True Label\", fontsize=12)\n",
    "\n",
    "plt.grid(False)\n",
    "\n",
    "plt.tight_layout()\n",
    "plt.savefig('confusion.png', dpi = 300)\n",
    "plt.show()\n"
   ]
  },
  {
   "cell_type": "code",
   "execution_count": 51,
   "id": "3f3c72b8",
   "metadata": {},
   "outputs": [
    {
     "name": "stdout",
     "output_type": "stream",
     "text": [
      "roc auc score: 0.8690425900236163\n",
      "accuracy score: 0.8544348137452176\n",
      "precision score: 0.3695053314018381\n",
      "recall score: 0.5891406826830238\n",
      "f1 score: 0.45416268361561307\n"
     ]
    }
   ],
   "source": [
    "print(f\"roc auc score: {roc_auc_score(y_test, probs)}\")\n",
    "print(f\"accuracy score: {accuracy_score(y_test, y_pred)}\")\n",
    "print(f\"precision score: {precision_score(y_test, y_pred)}\")\n",
    "print(f\"recall score: {recall_score(y_test, y_pred)}\")\n",
    "print(f\"f1 score: {f1_score(y_test, y_pred)}\")"
   ]
  },
  {
   "cell_type": "markdown",
   "id": "9b093008",
   "metadata": {},
   "source": [
    "### LIFT analysis"
   ]
  },
  {
   "cell_type": "code",
   "execution_count": 52,
   "id": "3549947b",
   "metadata": {},
   "outputs": [
    {
     "name": "stdout",
     "output_type": "stream",
     "text": [
      "Overall CR: 10.28%\n",
      "Top 10% CR: 13.17%\n",
      "Lift: 1.28×\n"
     ]
    }
   ],
   "source": [
    "\n",
    "# after you have probs and y_test\n",
    "lift_df = pd.DataFrame({\n",
    "    'prob': probs,\n",
    "    'actual': y_test.values  # or y_test if it’s an array\n",
    "})\n",
    "\n",
    "# 1. overall conversion rate\n",
    "baseline_cr = lift_df['actual'].mean()\n",
    "\n",
    "# 2. pick top 10% by model score\n",
    "top_pct = 0.10\n",
    "n_top = int(len(df) * top_pct)\n",
    "lift_df_top = lift_df.nlargest(n_top, 'prob')\n",
    "\n",
    "# 3. conversion rate in top 10%\n",
    "top_cr = lift_df_top['actual'].mean()\n",
    "\n",
    "# 4. lift\n",
    "lift = top_cr / baseline_cr\n",
    "\n",
    "print(f\"Overall CR: {baseline_cr:.2%}\")\n",
    "print(f\"Top 10% CR: {top_cr:.2%}\")\n",
    "print(f\"Lift: {lift:.2f}×\")\n"
   ]
  },
  {
   "cell_type": "code",
   "execution_count": 53,
   "id": "8ca82f59",
   "metadata": {},
   "outputs": [
    {
     "name": "stdout",
     "output_type": "stream",
     "text": [
      "Random 10% CR: 0.10299103914400178\n"
     ]
    }
   ],
   "source": [
    "df_random = lift_df.sample(n_top, random_state=42)\n",
    "print(\"Random 10% CR:\", df_random['actual'].mean())"
   ]
  },
  {
   "cell_type": "markdown",
   "id": "bacc28c7",
   "metadata": {},
   "source": [
    "### AOV + incremental revenue calc."
   ]
  },
  {
   "cell_type": "code",
   "execution_count": 54,
   "id": "25f06194",
   "metadata": {},
   "outputs": [
    {
     "data": {
      "text/plain": [
       "Index(['machine_id', 'site_session_id', 'prod_category_id', 'prod_name',\n",
       "       'domain_id', 'prod_qty', 'prod_totprice', 'basket_tot', 'event_date',\n",
       "       'event_time', 'domain_name', 'total_transactions_2020',\n",
       "       'total_transactions_2021', 'total_transactions_2022',\n",
       "       'total_transactions_2023'],\n",
       "      dtype='object')"
      ]
     },
     "execution_count": 54,
     "metadata": {},
     "output_type": "execute_result"
    }
   ],
   "source": [
    "transactions.columns"
   ]
  },
  {
   "cell_type": "code",
   "execution_count": 55,
   "id": "70b4af45",
   "metadata": {},
   "outputs": [],
   "source": [
    "session_baskets = (\n",
    "    transactions[['machine_id','event_date','domain_name','basket_tot']]\n",
    "    .drop_duplicates(subset=['machine_id','event_date','domain_name'])\n",
    ")\n",
    "\n",
    "aov = (\n",
    "    session_baskets\n",
    "    .groupby('domain_name', as_index=False)['basket_tot']\n",
    "    .mean()\n",
    "    .rename(columns={'basket_tot':'AOV'})\n",
    ")\n"
   ]
  },
  {
   "cell_type": "code",
   "execution_count": 56,
   "id": "26ad0b9e",
   "metadata": {},
   "outputs": [
    {
     "data": {
      "text/html": [
       "<div>\n",
       "<style scoped>\n",
       "    .dataframe tbody tr th:only-of-type {\n",
       "        vertical-align: middle;\n",
       "    }\n",
       "\n",
       "    .dataframe tbody tr th {\n",
       "        vertical-align: top;\n",
       "    }\n",
       "\n",
       "    .dataframe thead th {\n",
       "        text-align: right;\n",
       "    }\n",
       "</style>\n",
       "<table border=\"1\" class=\"dataframe\">\n",
       "  <thead>\n",
       "    <tr style=\"text-align: right;\">\n",
       "      <th></th>\n",
       "      <th>domain_name</th>\n",
       "      <th>AOV</th>\n",
       "    </tr>\n",
       "  </thead>\n",
       "  <tbody>\n",
       "    <tr>\n",
       "      <th>0</th>\n",
       "      <td>amazon.com</td>\n",
       "      <td>62.206553</td>\n",
       "    </tr>\n",
       "    <tr>\n",
       "      <th>1</th>\n",
       "      <td>ebay.com</td>\n",
       "      <td>65.333060</td>\n",
       "    </tr>\n",
       "    <tr>\n",
       "      <th>2</th>\n",
       "      <td>etsy.com</td>\n",
       "      <td>25.433020</td>\n",
       "    </tr>\n",
       "    <tr>\n",
       "      <th>3</th>\n",
       "      <td>target.com</td>\n",
       "      <td>79.635582</td>\n",
       "    </tr>\n",
       "    <tr>\n",
       "      <th>4</th>\n",
       "      <td>walmart.com</td>\n",
       "      <td>97.507052</td>\n",
       "    </tr>\n",
       "  </tbody>\n",
       "</table>\n",
       "</div>"
      ],
      "text/plain": [
       "   domain_name        AOV\n",
       "0   amazon.com  62.206553\n",
       "1     ebay.com  65.333060\n",
       "2     etsy.com  25.433020\n",
       "3   target.com  79.635582\n",
       "4  walmart.com  97.507052"
      ]
     },
     "execution_count": 56,
     "metadata": {},
     "output_type": "execute_result"
    }
   ],
   "source": [
    "aov"
   ]
  },
  {
   "cell_type": "code",
   "execution_count": 57,
   "id": "e2aa51ac",
   "metadata": {},
   "outputs": [
    {
     "data": {
      "text/plain": [
       "np.float64(1485.8995869365526)"
      ]
     },
     "execution_count": 57,
     "metadata": {},
     "output_type": "execute_result"
    }
   ],
   "source": [
    "N_amz = int(len(lift_df) * 0.10)\n",
    "\n",
    "inc_orders_amz  = N_amz  * (top_cr  - baseline_cr)\n",
    "\n",
    "inc_orders_amz"
   ]
  },
  {
   "cell_type": "code",
   "execution_count": 58,
   "id": "8945c590",
   "metadata": {},
   "outputs": [],
   "source": [
    "# join in AOV\n",
    "aov_amz  = aov.loc[aov.domain_name=='amazon.com','AOV'].iloc[0]\n",
    "inc_rev_amz  = inc_orders_amz  * aov_amz\n",
    "cost_amz  = N_amz  * 0.50\n",
    "net_amz  = inc_rev_amz  - cost_amz\n",
    "roi_amz  = net_amz  / cost_amz"
   ]
  },
  {
   "cell_type": "code",
   "execution_count": 59,
   "id": "024bfe55",
   "metadata": {},
   "outputs": [
    {
     "data": {
      "text/plain": [
       "np.float64(2.597582650796729)"
      ]
     },
     "execution_count": 59,
     "metadata": {},
     "output_type": "execute_result"
    }
   ],
   "source": [
    "roi_amz"
   ]
  },
  {
   "cell_type": "markdown",
   "id": "a83b0df1",
   "metadata": {},
   "source": [
    "### Parsimony Analysis"
   ]
  },
  {
   "cell_type": "code",
   "execution_count": 60,
   "id": "23cb33b0",
   "metadata": {},
   "outputs": [],
   "source": [
    "X_train_par = X_train[num_cols]\n",
    "X_test_par = X_test[num_cols]"
   ]
  },
  {
   "cell_type": "code",
   "execution_count": 61,
   "id": "d19099eb",
   "metadata": {},
   "outputs": [],
   "source": [
    "model_par = XGBClassifier(\n",
    "    use_label_encoder=False,\n",
    "    eval_metric='logloss',\n",
    "    random_state=42,\n",
    "    scale_pos_weight=scale\n",
    ")"
   ]
  },
  {
   "cell_type": "code",
   "execution_count": 62,
   "id": "763cdc29",
   "metadata": {},
   "outputs": [
    {
     "data": {
      "text/html": [
       "<style>#sk-container-id-2 {\n",
       "  /* Definition of color scheme common for light and dark mode */\n",
       "  --sklearn-color-text: #000;\n",
       "  --sklearn-color-text-muted: #666;\n",
       "  --sklearn-color-line: gray;\n",
       "  /* Definition of color scheme for unfitted estimators */\n",
       "  --sklearn-color-unfitted-level-0: #fff5e6;\n",
       "  --sklearn-color-unfitted-level-1: #f6e4d2;\n",
       "  --sklearn-color-unfitted-level-2: #ffe0b3;\n",
       "  --sklearn-color-unfitted-level-3: chocolate;\n",
       "  /* Definition of color scheme for fitted estimators */\n",
       "  --sklearn-color-fitted-level-0: #f0f8ff;\n",
       "  --sklearn-color-fitted-level-1: #d4ebff;\n",
       "  --sklearn-color-fitted-level-2: #b3dbfd;\n",
       "  --sklearn-color-fitted-level-3: cornflowerblue;\n",
       "\n",
       "  /* Specific color for light theme */\n",
       "  --sklearn-color-text-on-default-background: var(--sg-text-color, var(--theme-code-foreground, var(--jp-content-font-color1, black)));\n",
       "  --sklearn-color-background: var(--sg-background-color, var(--theme-background, var(--jp-layout-color0, white)));\n",
       "  --sklearn-color-border-box: var(--sg-text-color, var(--theme-code-foreground, var(--jp-content-font-color1, black)));\n",
       "  --sklearn-color-icon: #696969;\n",
       "\n",
       "  @media (prefers-color-scheme: dark) {\n",
       "    /* Redefinition of color scheme for dark theme */\n",
       "    --sklearn-color-text-on-default-background: var(--sg-text-color, var(--theme-code-foreground, var(--jp-content-font-color1, white)));\n",
       "    --sklearn-color-background: var(--sg-background-color, var(--theme-background, var(--jp-layout-color0, #111)));\n",
       "    --sklearn-color-border-box: var(--sg-text-color, var(--theme-code-foreground, var(--jp-content-font-color1, white)));\n",
       "    --sklearn-color-icon: #878787;\n",
       "  }\n",
       "}\n",
       "\n",
       "#sk-container-id-2 {\n",
       "  color: var(--sklearn-color-text);\n",
       "}\n",
       "\n",
       "#sk-container-id-2 pre {\n",
       "  padding: 0;\n",
       "}\n",
       "\n",
       "#sk-container-id-2 input.sk-hidden--visually {\n",
       "  border: 0;\n",
       "  clip: rect(1px 1px 1px 1px);\n",
       "  clip: rect(1px, 1px, 1px, 1px);\n",
       "  height: 1px;\n",
       "  margin: -1px;\n",
       "  overflow: hidden;\n",
       "  padding: 0;\n",
       "  position: absolute;\n",
       "  width: 1px;\n",
       "}\n",
       "\n",
       "#sk-container-id-2 div.sk-dashed-wrapped {\n",
       "  border: 1px dashed var(--sklearn-color-line);\n",
       "  margin: 0 0.4em 0.5em 0.4em;\n",
       "  box-sizing: border-box;\n",
       "  padding-bottom: 0.4em;\n",
       "  background-color: var(--sklearn-color-background);\n",
       "}\n",
       "\n",
       "#sk-container-id-2 div.sk-container {\n",
       "  /* jupyter's `normalize.less` sets `[hidden] { display: none; }`\n",
       "     but bootstrap.min.css set `[hidden] { display: none !important; }`\n",
       "     so we also need the `!important` here to be able to override the\n",
       "     default hidden behavior on the sphinx rendered scikit-learn.org.\n",
       "     See: https://github.com/scikit-learn/scikit-learn/issues/21755 */\n",
       "  display: inline-block !important;\n",
       "  position: relative;\n",
       "}\n",
       "\n",
       "#sk-container-id-2 div.sk-text-repr-fallback {\n",
       "  display: none;\n",
       "}\n",
       "\n",
       "div.sk-parallel-item,\n",
       "div.sk-serial,\n",
       "div.sk-item {\n",
       "  /* draw centered vertical line to link estimators */\n",
       "  background-image: linear-gradient(var(--sklearn-color-text-on-default-background), var(--sklearn-color-text-on-default-background));\n",
       "  background-size: 2px 100%;\n",
       "  background-repeat: no-repeat;\n",
       "  background-position: center center;\n",
       "}\n",
       "\n",
       "/* Parallel-specific style estimator block */\n",
       "\n",
       "#sk-container-id-2 div.sk-parallel-item::after {\n",
       "  content: \"\";\n",
       "  width: 100%;\n",
       "  border-bottom: 2px solid var(--sklearn-color-text-on-default-background);\n",
       "  flex-grow: 1;\n",
       "}\n",
       "\n",
       "#sk-container-id-2 div.sk-parallel {\n",
       "  display: flex;\n",
       "  align-items: stretch;\n",
       "  justify-content: center;\n",
       "  background-color: var(--sklearn-color-background);\n",
       "  position: relative;\n",
       "}\n",
       "\n",
       "#sk-container-id-2 div.sk-parallel-item {\n",
       "  display: flex;\n",
       "  flex-direction: column;\n",
       "}\n",
       "\n",
       "#sk-container-id-2 div.sk-parallel-item:first-child::after {\n",
       "  align-self: flex-end;\n",
       "  width: 50%;\n",
       "}\n",
       "\n",
       "#sk-container-id-2 div.sk-parallel-item:last-child::after {\n",
       "  align-self: flex-start;\n",
       "  width: 50%;\n",
       "}\n",
       "\n",
       "#sk-container-id-2 div.sk-parallel-item:only-child::after {\n",
       "  width: 0;\n",
       "}\n",
       "\n",
       "/* Serial-specific style estimator block */\n",
       "\n",
       "#sk-container-id-2 div.sk-serial {\n",
       "  display: flex;\n",
       "  flex-direction: column;\n",
       "  align-items: center;\n",
       "  background-color: var(--sklearn-color-background);\n",
       "  padding-right: 1em;\n",
       "  padding-left: 1em;\n",
       "}\n",
       "\n",
       "\n",
       "/* Toggleable style: style used for estimator/Pipeline/ColumnTransformer box that is\n",
       "clickable and can be expanded/collapsed.\n",
       "- Pipeline and ColumnTransformer use this feature and define the default style\n",
       "- Estimators will overwrite some part of the style using the `sk-estimator` class\n",
       "*/\n",
       "\n",
       "/* Pipeline and ColumnTransformer style (default) */\n",
       "\n",
       "#sk-container-id-2 div.sk-toggleable {\n",
       "  /* Default theme specific background. It is overwritten whether we have a\n",
       "  specific estimator or a Pipeline/ColumnTransformer */\n",
       "  background-color: var(--sklearn-color-background);\n",
       "}\n",
       "\n",
       "/* Toggleable label */\n",
       "#sk-container-id-2 label.sk-toggleable__label {\n",
       "  cursor: pointer;\n",
       "  display: flex;\n",
       "  width: 100%;\n",
       "  margin-bottom: 0;\n",
       "  padding: 0.5em;\n",
       "  box-sizing: border-box;\n",
       "  text-align: center;\n",
       "  align-items: start;\n",
       "  justify-content: space-between;\n",
       "  gap: 0.5em;\n",
       "}\n",
       "\n",
       "#sk-container-id-2 label.sk-toggleable__label .caption {\n",
       "  font-size: 0.6rem;\n",
       "  font-weight: lighter;\n",
       "  color: var(--sklearn-color-text-muted);\n",
       "}\n",
       "\n",
       "#sk-container-id-2 label.sk-toggleable__label-arrow:before {\n",
       "  /* Arrow on the left of the label */\n",
       "  content: \"▸\";\n",
       "  float: left;\n",
       "  margin-right: 0.25em;\n",
       "  color: var(--sklearn-color-icon);\n",
       "}\n",
       "\n",
       "#sk-container-id-2 label.sk-toggleable__label-arrow:hover:before {\n",
       "  color: var(--sklearn-color-text);\n",
       "}\n",
       "\n",
       "/* Toggleable content - dropdown */\n",
       "\n",
       "#sk-container-id-2 div.sk-toggleable__content {\n",
       "  max-height: 0;\n",
       "  max-width: 0;\n",
       "  overflow: hidden;\n",
       "  text-align: left;\n",
       "  /* unfitted */\n",
       "  background-color: var(--sklearn-color-unfitted-level-0);\n",
       "}\n",
       "\n",
       "#sk-container-id-2 div.sk-toggleable__content.fitted {\n",
       "  /* fitted */\n",
       "  background-color: var(--sklearn-color-fitted-level-0);\n",
       "}\n",
       "\n",
       "#sk-container-id-2 div.sk-toggleable__content pre {\n",
       "  margin: 0.2em;\n",
       "  border-radius: 0.25em;\n",
       "  color: var(--sklearn-color-text);\n",
       "  /* unfitted */\n",
       "  background-color: var(--sklearn-color-unfitted-level-0);\n",
       "}\n",
       "\n",
       "#sk-container-id-2 div.sk-toggleable__content.fitted pre {\n",
       "  /* unfitted */\n",
       "  background-color: var(--sklearn-color-fitted-level-0);\n",
       "}\n",
       "\n",
       "#sk-container-id-2 input.sk-toggleable__control:checked~div.sk-toggleable__content {\n",
       "  /* Expand drop-down */\n",
       "  max-height: 200px;\n",
       "  max-width: 100%;\n",
       "  overflow: auto;\n",
       "}\n",
       "\n",
       "#sk-container-id-2 input.sk-toggleable__control:checked~label.sk-toggleable__label-arrow:before {\n",
       "  content: \"▾\";\n",
       "}\n",
       "\n",
       "/* Pipeline/ColumnTransformer-specific style */\n",
       "\n",
       "#sk-container-id-2 div.sk-label input.sk-toggleable__control:checked~label.sk-toggleable__label {\n",
       "  color: var(--sklearn-color-text);\n",
       "  background-color: var(--sklearn-color-unfitted-level-2);\n",
       "}\n",
       "\n",
       "#sk-container-id-2 div.sk-label.fitted input.sk-toggleable__control:checked~label.sk-toggleable__label {\n",
       "  background-color: var(--sklearn-color-fitted-level-2);\n",
       "}\n",
       "\n",
       "/* Estimator-specific style */\n",
       "\n",
       "/* Colorize estimator box */\n",
       "#sk-container-id-2 div.sk-estimator input.sk-toggleable__control:checked~label.sk-toggleable__label {\n",
       "  /* unfitted */\n",
       "  background-color: var(--sklearn-color-unfitted-level-2);\n",
       "}\n",
       "\n",
       "#sk-container-id-2 div.sk-estimator.fitted input.sk-toggleable__control:checked~label.sk-toggleable__label {\n",
       "  /* fitted */\n",
       "  background-color: var(--sklearn-color-fitted-level-2);\n",
       "}\n",
       "\n",
       "#sk-container-id-2 div.sk-label label.sk-toggleable__label,\n",
       "#sk-container-id-2 div.sk-label label {\n",
       "  /* The background is the default theme color */\n",
       "  color: var(--sklearn-color-text-on-default-background);\n",
       "}\n",
       "\n",
       "/* On hover, darken the color of the background */\n",
       "#sk-container-id-2 div.sk-label:hover label.sk-toggleable__label {\n",
       "  color: var(--sklearn-color-text);\n",
       "  background-color: var(--sklearn-color-unfitted-level-2);\n",
       "}\n",
       "\n",
       "/* Label box, darken color on hover, fitted */\n",
       "#sk-container-id-2 div.sk-label.fitted:hover label.sk-toggleable__label.fitted {\n",
       "  color: var(--sklearn-color-text);\n",
       "  background-color: var(--sklearn-color-fitted-level-2);\n",
       "}\n",
       "\n",
       "/* Estimator label */\n",
       "\n",
       "#sk-container-id-2 div.sk-label label {\n",
       "  font-family: monospace;\n",
       "  font-weight: bold;\n",
       "  display: inline-block;\n",
       "  line-height: 1.2em;\n",
       "}\n",
       "\n",
       "#sk-container-id-2 div.sk-label-container {\n",
       "  text-align: center;\n",
       "}\n",
       "\n",
       "/* Estimator-specific */\n",
       "#sk-container-id-2 div.sk-estimator {\n",
       "  font-family: monospace;\n",
       "  border: 1px dotted var(--sklearn-color-border-box);\n",
       "  border-radius: 0.25em;\n",
       "  box-sizing: border-box;\n",
       "  margin-bottom: 0.5em;\n",
       "  /* unfitted */\n",
       "  background-color: var(--sklearn-color-unfitted-level-0);\n",
       "}\n",
       "\n",
       "#sk-container-id-2 div.sk-estimator.fitted {\n",
       "  /* fitted */\n",
       "  background-color: var(--sklearn-color-fitted-level-0);\n",
       "}\n",
       "\n",
       "/* on hover */\n",
       "#sk-container-id-2 div.sk-estimator:hover {\n",
       "  /* unfitted */\n",
       "  background-color: var(--sklearn-color-unfitted-level-2);\n",
       "}\n",
       "\n",
       "#sk-container-id-2 div.sk-estimator.fitted:hover {\n",
       "  /* fitted */\n",
       "  background-color: var(--sklearn-color-fitted-level-2);\n",
       "}\n",
       "\n",
       "/* Specification for estimator info (e.g. \"i\" and \"?\") */\n",
       "\n",
       "/* Common style for \"i\" and \"?\" */\n",
       "\n",
       ".sk-estimator-doc-link,\n",
       "a:link.sk-estimator-doc-link,\n",
       "a:visited.sk-estimator-doc-link {\n",
       "  float: right;\n",
       "  font-size: smaller;\n",
       "  line-height: 1em;\n",
       "  font-family: monospace;\n",
       "  background-color: var(--sklearn-color-background);\n",
       "  border-radius: 1em;\n",
       "  height: 1em;\n",
       "  width: 1em;\n",
       "  text-decoration: none !important;\n",
       "  margin-left: 0.5em;\n",
       "  text-align: center;\n",
       "  /* unfitted */\n",
       "  border: var(--sklearn-color-unfitted-level-1) 1pt solid;\n",
       "  color: var(--sklearn-color-unfitted-level-1);\n",
       "}\n",
       "\n",
       ".sk-estimator-doc-link.fitted,\n",
       "a:link.sk-estimator-doc-link.fitted,\n",
       "a:visited.sk-estimator-doc-link.fitted {\n",
       "  /* fitted */\n",
       "  border: var(--sklearn-color-fitted-level-1) 1pt solid;\n",
       "  color: var(--sklearn-color-fitted-level-1);\n",
       "}\n",
       "\n",
       "/* On hover */\n",
       "div.sk-estimator:hover .sk-estimator-doc-link:hover,\n",
       ".sk-estimator-doc-link:hover,\n",
       "div.sk-label-container:hover .sk-estimator-doc-link:hover,\n",
       ".sk-estimator-doc-link:hover {\n",
       "  /* unfitted */\n",
       "  background-color: var(--sklearn-color-unfitted-level-3);\n",
       "  color: var(--sklearn-color-background);\n",
       "  text-decoration: none;\n",
       "}\n",
       "\n",
       "div.sk-estimator.fitted:hover .sk-estimator-doc-link.fitted:hover,\n",
       ".sk-estimator-doc-link.fitted:hover,\n",
       "div.sk-label-container:hover .sk-estimator-doc-link.fitted:hover,\n",
       ".sk-estimator-doc-link.fitted:hover {\n",
       "  /* fitted */\n",
       "  background-color: var(--sklearn-color-fitted-level-3);\n",
       "  color: var(--sklearn-color-background);\n",
       "  text-decoration: none;\n",
       "}\n",
       "\n",
       "/* Span, style for the box shown on hovering the info icon */\n",
       ".sk-estimator-doc-link span {\n",
       "  display: none;\n",
       "  z-index: 9999;\n",
       "  position: relative;\n",
       "  font-weight: normal;\n",
       "  right: .2ex;\n",
       "  padding: .5ex;\n",
       "  margin: .5ex;\n",
       "  width: min-content;\n",
       "  min-width: 20ex;\n",
       "  max-width: 50ex;\n",
       "  color: var(--sklearn-color-text);\n",
       "  box-shadow: 2pt 2pt 4pt #999;\n",
       "  /* unfitted */\n",
       "  background: var(--sklearn-color-unfitted-level-0);\n",
       "  border: .5pt solid var(--sklearn-color-unfitted-level-3);\n",
       "}\n",
       "\n",
       ".sk-estimator-doc-link.fitted span {\n",
       "  /* fitted */\n",
       "  background: var(--sklearn-color-fitted-level-0);\n",
       "  border: var(--sklearn-color-fitted-level-3);\n",
       "}\n",
       "\n",
       ".sk-estimator-doc-link:hover span {\n",
       "  display: block;\n",
       "}\n",
       "\n",
       "/* \"?\"-specific style due to the `<a>` HTML tag */\n",
       "\n",
       "#sk-container-id-2 a.estimator_doc_link {\n",
       "  float: right;\n",
       "  font-size: 1rem;\n",
       "  line-height: 1em;\n",
       "  font-family: monospace;\n",
       "  background-color: var(--sklearn-color-background);\n",
       "  border-radius: 1rem;\n",
       "  height: 1rem;\n",
       "  width: 1rem;\n",
       "  text-decoration: none;\n",
       "  /* unfitted */\n",
       "  color: var(--sklearn-color-unfitted-level-1);\n",
       "  border: var(--sklearn-color-unfitted-level-1) 1pt solid;\n",
       "}\n",
       "\n",
       "#sk-container-id-2 a.estimator_doc_link.fitted {\n",
       "  /* fitted */\n",
       "  border: var(--sklearn-color-fitted-level-1) 1pt solid;\n",
       "  color: var(--sklearn-color-fitted-level-1);\n",
       "}\n",
       "\n",
       "/* On hover */\n",
       "#sk-container-id-2 a.estimator_doc_link:hover {\n",
       "  /* unfitted */\n",
       "  background-color: var(--sklearn-color-unfitted-level-3);\n",
       "  color: var(--sklearn-color-background);\n",
       "  text-decoration: none;\n",
       "}\n",
       "\n",
       "#sk-container-id-2 a.estimator_doc_link.fitted:hover {\n",
       "  /* fitted */\n",
       "  background-color: var(--sklearn-color-fitted-level-3);\n",
       "}\n",
       "</style><div id=\"sk-container-id-2\" class=\"sk-top-container\"><div class=\"sk-text-repr-fallback\"><pre>XGBClassifier(base_score=None, booster=None, callbacks=None,\n",
       "              colsample_bylevel=None, colsample_bynode=None,\n",
       "              colsample_bytree=None, device=None, early_stopping_rounds=None,\n",
       "              enable_categorical=False, eval_metric=&#x27;logloss&#x27;,\n",
       "              feature_types=None, feature_weights=None, gamma=None,\n",
       "              grow_policy=None, importance_type=None,\n",
       "              interaction_constraints=None, learning_rate=None, max_bin=None,\n",
       "              max_cat_threshold=None, max_cat_to_onehot=None,\n",
       "              max_delta_step=None, max_depth=None, max_leaves=None,\n",
       "              min_child_weight=None, missing=nan, monotone_constraints=None,\n",
       "              multi_strategy=None, n_estimators=None, n_jobs=None,\n",
       "              num_parallel_tree=None, ...)</pre><b>In a Jupyter environment, please rerun this cell to show the HTML representation or trust the notebook. <br />On GitHub, the HTML representation is unable to render, please try loading this page with nbviewer.org.</b></div><div class=\"sk-container\" hidden><div class=\"sk-item\"><div class=\"sk-estimator fitted sk-toggleable\"><input class=\"sk-toggleable__control sk-hidden--visually\" id=\"sk-estimator-id-2\" type=\"checkbox\" checked><label for=\"sk-estimator-id-2\" class=\"sk-toggleable__label fitted sk-toggleable__label-arrow\"><div><div>XGBClassifier</div></div><div><a class=\"sk-estimator-doc-link fitted\" rel=\"noreferrer\" target=\"_blank\" href=\"https://xgboost.readthedocs.io/en/release_3.0.0/python/python_api.html#xgboost.XGBClassifier\">?<span>Documentation for XGBClassifier</span></a><span class=\"sk-estimator-doc-link fitted\">i<span>Fitted</span></span></div></label><div class=\"sk-toggleable__content fitted\"><pre>XGBClassifier(base_score=None, booster=None, callbacks=None,\n",
       "              colsample_bylevel=None, colsample_bynode=None,\n",
       "              colsample_bytree=None, device=None, early_stopping_rounds=None,\n",
       "              enable_categorical=False, eval_metric=&#x27;logloss&#x27;,\n",
       "              feature_types=None, feature_weights=None, gamma=None,\n",
       "              grow_policy=None, importance_type=None,\n",
       "              interaction_constraints=None, learning_rate=None, max_bin=None,\n",
       "              max_cat_threshold=None, max_cat_to_onehot=None,\n",
       "              max_delta_step=None, max_depth=None, max_leaves=None,\n",
       "              min_child_weight=None, missing=nan, monotone_constraints=None,\n",
       "              multi_strategy=None, n_estimators=None, n_jobs=None,\n",
       "              num_parallel_tree=None, ...)</pre></div> </div></div></div></div>"
      ],
      "text/plain": [
       "XGBClassifier(base_score=None, booster=None, callbacks=None,\n",
       "              colsample_bylevel=None, colsample_bynode=None,\n",
       "              colsample_bytree=None, device=None, early_stopping_rounds=None,\n",
       "              enable_categorical=False, eval_metric='logloss',\n",
       "              feature_types=None, feature_weights=None, gamma=None,\n",
       "              grow_policy=None, importance_type=None,\n",
       "              interaction_constraints=None, learning_rate=None, max_bin=None,\n",
       "              max_cat_threshold=None, max_cat_to_onehot=None,\n",
       "              max_delta_step=None, max_depth=None, max_leaves=None,\n",
       "              min_child_weight=None, missing=nan, monotone_constraints=None,\n",
       "              multi_strategy=None, n_estimators=None, n_jobs=None,\n",
       "              num_parallel_tree=None, ...)"
      ]
     },
     "execution_count": 62,
     "metadata": {},
     "output_type": "execute_result"
    }
   ],
   "source": [
    "model_par.fit(X_train_par, y_train)"
   ]
  },
  {
   "cell_type": "code",
   "execution_count": 63,
   "id": "c3e6b9fa",
   "metadata": {},
   "outputs": [
    {
     "name": "stdout",
     "output_type": "stream",
     "text": [
      "Best threshold: 0.6799999999999999\n"
     ]
    }
   ],
   "source": [
    "probs_par = model_par.predict_proba(X_test_par)[:,1]\n",
    "# pick threshold that maximizes F1 or gives desired recall\n",
    "\n",
    "ths = np.linspace(0.1,0.9,81)\n",
    "f1s_par = [f1_score(y_test, probs_par>t) for t in ths]\n",
    "best_t_par = ths[np.argmax(f1s_par)]\n",
    "print(\"Best threshold:\", best_t_par)\n"
   ]
  },
  {
   "cell_type": "code",
   "execution_count": 64,
   "id": "1ec2b546",
   "metadata": {},
   "outputs": [
    {
     "name": "stdout",
     "output_type": "stream",
     "text": [
      "              precision    recall  f1-score   support\n",
      "\n",
      "           0       0.95      0.83      0.89    461045\n",
      "           1       0.30      0.63      0.41     52821\n",
      "\n",
      "    accuracy                           0.81    513866\n",
      "   macro avg       0.63      0.73      0.65    513866\n",
      "weighted avg       0.88      0.81      0.84    513866\n",
      "\n"
     ]
    }
   ],
   "source": [
    "y_pred_par = (probs_par >= best_t_par).astype(int)\n",
    "\n",
    "from sklearn.metrics import classification_report\n",
    "print(classification_report(y_test, y_pred_par))"
   ]
  },
  {
   "cell_type": "code",
   "execution_count": 65,
   "id": "069eb9b2",
   "metadata": {},
   "outputs": [
    {
     "data": {
      "image/png": "[encoded data removed]",
      "text/plain": [
       "<Figure size 640x480 with 2 Axes>"
      ]
     },
     "metadata": {},
     "output_type": "display_data"
    }
   ],
   "source": [
    "cm = confusion_matrix(y_test, y_pred_par)\n",
    "plt.figure()\n",
    "plt.imshow(cm, cmap=plt.cm.Blues, interpolation='nearest')\n",
    "plt.title(f'Confusion Matrix: {best}')\n",
    "plt.colorbar()\n",
    "plt.xticks([0,1], ['Pred 0','Pred 1'])\n",
    "plt.yticks([0,1], ['True 0','True 1'])\n",
    "for i in (0,1):\n",
    "    for j in (0,1):\n",
    "        plt.text(j, i, cm[i,j], ha='center', va='center',\n",
    "                 color='white' if cm[i,j] > cm.max()/2 else 'black')\n",
    "plt.xlabel('Predicted')\n",
    "plt.ylabel('Actual')\n",
    "plt.tight_layout()\n",
    "plt.show()"
   ]
  },
  {
   "cell_type": "code",
   "execution_count": 66,
   "id": "50b17587",
   "metadata": {},
   "outputs": [
    {
     "name": "stdout",
     "output_type": "stream",
     "text": [
      "roc auc score: 0.8429575665148897\n",
      "accuracy score: 0.812853934683361\n",
      "precision score: 0.3028014594156878\n",
      "recall score: 0.6300524412638913\n",
      "f1 score: 0.40902610491126296\n"
     ]
    }
   ],
   "source": [
    "print(f\"roc auc score: {roc_auc_score(y_test, probs_par)}\")\n",
    "print(f\"accuracy score: {accuracy_score(y_test, y_pred_par)}\")\n",
    "print(f\"precision score: {precision_score(y_test, y_pred_par)}\")\n",
    "print(f\"recall score: {recall_score(y_test, y_pred_par)}\")\n",
    "print(f\"f1 score: {f1_score(y_test, y_pred_par)}\")"
   ]
  },
  {
   "cell_type": "markdown",
   "id": "56a85a0f",
   "metadata": {},
   "source": [
    "### Transfer prediction on other domains "
   ]
  },
  {
   "cell_type": "markdown",
   "id": "60bae71b",
   "metadata": {},
   "source": [
    "#### preprocessing"
   ]
  },
  {
   "cell_type": "code",
   "execution_count": 67,
   "id": "eaafcb6b",
   "metadata": {},
   "outputs": [],
   "source": [
    "s_mach_nonamz = sessions_non_amz['machine_id'].unique().tolist()\n",
    "t_mach_nonamz = transactions_non_amz['machine_id'].unique().tolist()"
   ]
  },
  {
   "cell_type": "code",
   "execution_count": 68,
   "id": "4cf63970",
   "metadata": {},
   "outputs": [],
   "source": [
    "sessions_non_amz = sessions_non_amz[sessions_non_amz['machine_id'].isin(t_mach_nonamz)]"
   ]
  },
  {
   "cell_type": "code",
   "execution_count": 69,
   "id": "4fdf2d6a",
   "metadata": {},
   "outputs": [],
   "source": [
    "sessions_non_amz['ref_bucket'] = sessions_non_amz['ref_domain__name'].apply(bucket_ref)"
   ]
  },
  {
   "cell_type": "code",
   "execution_count": 70,
   "id": "8af77b6d",
   "metadata": {},
   "outputs": [],
   "source": [
    "# extract hour and weekday\n",
    "sessions_non_amz['event_date'] = pd.to_datetime(sessions_non_amz['event_date'])\n",
    "\n",
    "# extract hour by splitting on ':' and converting to int\n",
    "sessions_non_amz['event_time_parsed'] = pd.to_datetime(\n",
    "    sessions_non_amz['event_time'],\n",
    "    format='%H:%M:%S',\n",
    "    errors='coerce'            # invalid/missing → NaT\n",
    ")\n",
    "sessions_non_amz['hour'] = sessions_non_amz['event_time_parsed'].dt.hour\n",
    "\n",
    "# extract weekday name\n",
    "sessions_non_amz['weekday'] = sessions_non_amz['event_date'].dt.day_name()\n",
    "\n",
    "\n",
    "# extract month name\n",
    "sessions_non_amz['month'] = sessions_non_amz['event_date'].dt.month_name()"
   ]
  },
  {
   "cell_type": "code",
   "execution_count": 71,
   "id": "eacd8093",
   "metadata": {},
   "outputs": [],
   "source": [
    "sessions_nonamz_agg = sessions_non_amz.groupby(['machine_id','event_date']).agg(\n",
    "    pages_viewed       = ('pages_viewed',       'sum'),\n",
    "    duration           = ('duration',           'sum'),\n",
    "    hoh_most_education = ('hoh_most_education', 'first'),\n",
    "    census_region      = ('census_region',      'first'),\n",
    "    household_size     = ('household_size',     'first'),\n",
    "    hoh_oldest_age     = ('hoh_oldest_age',     'first'),\n",
    "    household_income   = ('household_income',   'first'),\n",
    "    children           = ('children',           'first'),\n",
    "    hour = ('hour', 'first'),\n",
    "    month = ('month', 'first'),\n",
    "    weekday = ('weekday', 'first'),\n",
    "    ref_bucket=('ref_bucket', 'first')\n",
    ").reset_index()"
   ]
  },
  {
   "cell_type": "code",
   "execution_count": 72,
   "id": "8602ba32",
   "metadata": {},
   "outputs": [],
   "source": [
    "trans_nonamz_agg = (\n",
    "    transactions_non_amz\n",
    "    .groupby(['machine_id','event_date'])\n",
    "    .size()\n",
    "    .reset_index(name='converted')\n",
    ")\n",
    "trans_nonamz_agg['converted'] = 1"
   ]
  },
  {
   "cell_type": "code",
   "execution_count": 73,
   "id": "c32a8463",
   "metadata": {},
   "outputs": [],
   "source": [
    "df_nonamz = sessions_nonamz_agg.merge(\n",
    "    trans_nonamz_agg, \n",
    "    on=['machine_id','event_date'], \n",
    "    how='left'\n",
    ")\n",
    "df_nonamz['converted'] = df_nonamz['converted'].fillna(0).astype(int)"
   ]
  },
  {
   "cell_type": "code",
   "execution_count": 74,
   "id": "874b2a47",
   "metadata": {},
   "outputs": [],
   "source": [
    "df_nonamz = df_nonamz.sort_values(['machine_id','event_date'])\n",
    "\n",
    "df_nonamz = df_nonamz.groupby('machine_id').apply(compute_days_since_last).reset_index(drop=True)\n"
   ]
  },
  {
   "cell_type": "code",
   "execution_count": 75,
   "id": "baa95bfe",
   "metadata": {},
   "outputs": [],
   "source": [
    "df_nonamz['hoh_most_education'].fillna(99, inplace=True)\n",
    "df_nonamz['census_region'].fillna(99, inplace=True)\n",
    "df_nonamz['household_size'].fillna(99, inplace=True)\n",
    "df_nonamz['hoh_oldest_age'].fillna(99, inplace=True)\n",
    "df_nonamz['household_income'].fillna(99, inplace=True)"
   ]
  },
  {
   "cell_type": "code",
   "execution_count": 76,
   "id": "fbbcf985",
   "metadata": {},
   "outputs": [],
   "source": [
    "df_nonamz['hoh_most_education'] = df_nonamz['hoh_most_education'].replace(-88, 99)\n",
    "df_nonamz['household_size'] = df_nonamz['household_size'].replace(-88, 99)"
   ]
  },
  {
   "cell_type": "code",
   "execution_count": 77,
   "id": "246e59b6",
   "metadata": {},
   "outputs": [],
   "source": [
    "df_nonamz = df_nonamz.dropna().reset_index(drop=True)"
   ]
  },
  {
   "cell_type": "code",
   "execution_count": 78,
   "id": "bed45038",
   "metadata": {},
   "outputs": [
    {
     "data": {
      "text/plain": [
       "machine_id                  0\n",
       "event_date                  0\n",
       "pages_viewed                0\n",
       "duration                    0\n",
       "hoh_most_education          0\n",
       "census_region               0\n",
       "household_size              0\n",
       "hoh_oldest_age              0\n",
       "household_income            0\n",
       "children                    0\n",
       "hour                        0\n",
       "month                       0\n",
       "weekday                     0\n",
       "ref_bucket                  0\n",
       "converted                   0\n",
       "days_since_last_purchase    0\n",
       "dtype: int64"
      ]
     },
     "execution_count": 78,
     "metadata": {},
     "output_type": "execute_result"
    }
   ],
   "source": [
    "df_nonamz.isna().sum()"
   ]
  },
  {
   "cell_type": "code",
   "execution_count": 79,
   "id": "066de8f7",
   "metadata": {},
   "outputs": [
    {
     "data": {
      "text/plain": [
       "converted\n",
       "0    1970708\n",
       "1     227170\n",
       "Name: count, dtype: int64"
      ]
     },
     "execution_count": 79,
     "metadata": {},
     "output_type": "execute_result"
    }
   ],
   "source": [
    "df_nonamz['converted'].value_counts()"
   ]
  },
  {
   "cell_type": "code",
   "execution_count": 80,
   "id": "5a738024",
   "metadata": {},
   "outputs": [],
   "source": [
    "model_nonamz_df = df_nonamz.copy()"
   ]
  },
  {
   "cell_type": "code",
   "execution_count": 81,
   "id": "88a7462d",
   "metadata": {},
   "outputs": [],
   "source": [
    "X_nonamz_test = model_nonamz_df.drop(columns=['machine_id', 'converted', 'event_date'])\n",
    "y_nonamze_test = model_nonamz_df['converted']"
   ]
  },
  {
   "cell_type": "code",
   "execution_count": 82,
   "id": "205b76c0",
   "metadata": {},
   "outputs": [],
   "source": [
    "X_nonamz_test = pd.get_dummies(X_nonamz_test, columns=cat_cols, drop_first=True, dtype=float )\n",
    "X_nonamz_test[num_cols]  = scaler.transform(X_nonamz_test[num_cols])"
   ]
  },
  {
   "cell_type": "code",
   "execution_count": 83,
   "id": "fb84efa5",
   "metadata": {},
   "outputs": [
    {
     "name": "stdout",
     "output_type": "stream",
     "text": [
      "Best threshold: 0.61\n"
     ]
    }
   ],
   "source": [
    "probs_nonamz = model.predict_proba(X_nonamz_test)[:,1]\n",
    "# pick threshold that maximizes F1 or gives desired recall\n",
    "\n",
    "ths = np.linspace(0.1,0.9,81)\n",
    "f1s_nonamz = [f1_score(y_nonamze_test, probs_nonamz>t) for t in ths]\n",
    "best_t_nonamz = ths[np.argmax(f1s_nonamz)]\n",
    "print(\"Best threshold:\", best_t_nonamz)\n"
   ]
  },
  {
   "cell_type": "code",
   "execution_count": 84,
   "id": "346d8a30",
   "metadata": {},
   "outputs": [
    {
     "name": "stdout",
     "output_type": "stream",
     "text": [
      "              precision    recall  f1-score   support\n",
      "\n",
      "           0       0.94      0.80      0.86   1970708\n",
      "           1       0.25      0.60      0.35    227170\n",
      "\n",
      "    accuracy                           0.78   2197878\n",
      "   macro avg       0.60      0.70      0.61   2197878\n",
      "weighted avg       0.87      0.78      0.81   2197878\n",
      "\n"
     ]
    }
   ],
   "source": [
    "y_pred_nonamz = (probs_nonamz >= best_t_nonamz).astype(int)\n",
    "\n",
    "from sklearn.metrics import classification_report\n",
    "print(classification_report(y_nonamze_test, y_pred_nonamz))"
   ]
  },
  {
   "cell_type": "code",
   "execution_count": 85,
   "id": "f141f1c6",
   "metadata": {},
   "outputs": [
    {
     "data": {
      "image/png": "[encoded data removed]",
      "text/plain": [
       "<Figure size 640x480 with 2 Axes>"
      ]
     },
     "metadata": {},
     "output_type": "display_data"
    }
   ],
   "source": [
    "cm = confusion_matrix(y_nonamze_test, y_pred_nonamz)\n",
    "plt.figure()\n",
    "plt.imshow(cm, cmap=plt.cm.Blues, interpolation='nearest')\n",
    "plt.title(f'Confusion Matrix: {best}')\n",
    "plt.colorbar()\n",
    "plt.xticks([0,1], ['Pred 0','Pred 1'])\n",
    "plt.yticks([0,1], ['True 0','True 1'])\n",
    "for i in (0,1):\n",
    "    for j in (0,1):\n",
    "        plt.text(j, i, cm[i,j], ha='center', va='center',\n",
    "                 color='white' if cm[i,j] > cm.max()/2 else 'black')\n",
    "plt.xlabel('Predicted')\n",
    "plt.ylabel('Actual')\n",
    "plt.tight_layout()\n",
    "plt.show()"
   ]
  },
  {
   "cell_type": "markdown",
   "id": "0153b301",
   "metadata": {},
   "source": [
    "#### parsimony prediction"
   ]
  },
  {
   "cell_type": "code",
   "execution_count": 86,
   "id": "915ba967",
   "metadata": {},
   "outputs": [],
   "source": [
    "X_nonamz_test_par = X_nonamz_test[num_cols]"
   ]
  },
  {
   "cell_type": "code",
   "execution_count": 87,
   "id": "7d205f56",
   "metadata": {},
   "outputs": [
    {
     "name": "stdout",
     "output_type": "stream",
     "text": [
      "Best threshold: 0.66\n"
     ]
    }
   ],
   "source": [
    "probs_nonamz_par = model_par.predict_proba(X_nonamz_test_par)[:,1]\n",
    "# pick threshold that maximizes F1 or gives desired recall\n",
    "\n",
    "ths = np.linspace(0.1,0.9,81)\n",
    "f1s_nonamz_par = [f1_score(y_nonamze_test, probs_nonamz_par>t) for t in ths]\n",
    "best_t_nonamz_par = ths[np.argmax(f1s_nonamz_par)]\n",
    "print(\"Best threshold:\", best_t_nonamz_par)\n"
   ]
  },
  {
   "cell_type": "code",
   "execution_count": 88,
   "id": "737a8dc7",
   "metadata": {},
   "outputs": [
    {
     "name": "stdout",
     "output_type": "stream",
     "text": [
      "              precision    recall  f1-score   support\n",
      "\n",
      "           0       0.94      0.81      0.87   1970708\n",
      "           1       0.26      0.58      0.36    227170\n",
      "\n",
      "    accuracy                           0.79   2197878\n",
      "   macro avg       0.60      0.70      0.62   2197878\n",
      "weighted avg       0.87      0.79      0.82   2197878\n",
      "\n"
     ]
    }
   ],
   "source": [
    "y_pred_nonamz_par = (probs_nonamz_par >= best_t_nonamz_par).astype(int)\n",
    "\n",
    "from sklearn.metrics import classification_report\n",
    "print(classification_report(y_nonamze_test, y_pred_nonamz_par))"
   ]
  },
  {
   "cell_type": "code",
   "execution_count": 89,
   "id": "d4af8854",
   "metadata": {},
   "outputs": [
    {
     "data": {
      "image/png": "[encoded data removed]",
      "text/plain": [
       "<Figure size 640x480 with 2 Axes>"
      ]
     },
     "metadata": {},
     "output_type": "display_data"
    }
   ],
   "source": [
    "cm = confusion_matrix(y_nonamze_test, y_pred_nonamz_par)\n",
    "plt.figure()\n",
    "plt.imshow(cm, cmap=plt.cm.Blues, interpolation='nearest')\n",
    "plt.title(f'Confusion Matrix: {best}')\n",
    "plt.colorbar()\n",
    "plt.xticks([0,1], ['Pred 0','Pred 1'])\n",
    "plt.yticks([0,1], ['True 0','True 1'])\n",
    "for i in (0,1):\n",
    "    for j in (0,1):\n",
    "        plt.text(j, i, cm[i,j], ha='center', va='center',\n",
    "                 color='white' if cm[i,j] > cm.max()/2 else 'black')\n",
    "plt.xlabel('Predicted')\n",
    "plt.ylabel('Actual')\n",
    "plt.tight_layout()\n",
    "plt.show()"
   ]
  }
 ],
 "metadata": {
  "kernelspec": {
   "display_name": "Python (myvenv)",
   "language": "python",
   "name": "jup_env"
  },
  "language_info": {
   "codemirror_mode": {
    "name": "ipython",
    "version": 3
   },
   "file_extension": ".py",
   "mimetype": "text/x-python",
   "name": "python",
   "nbconvert_exporter": "python",
   "pygments_lexer": "ipython3",
   "version": "3.13.2"
  }
 },
 "nbformat": 4,
 "nbformat_minor": 5
}
